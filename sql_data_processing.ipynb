{
 "cells": [
  {
   "cell_type": "code",
   "execution_count": 99,
   "id": "4be4d0de",
   "metadata": {},
   "outputs": [],
   "source": [
    "import pandas as pd\n",
    "import numpy as np\n",
    "from bs4 import BeautifulSoup"
   ]
  },
  {
   "cell_type": "code",
   "execution_count": 100,
   "id": "46aa6fcf",
   "metadata": {
    "scrolled": true
   },
   "outputs": [],
   "source": [
    "ex = pd.read_json('support_files/exercises-concepts.json')"
   ]
  },
  {
   "cell_type": "code",
   "execution_count": 101,
   "id": "11b471cd",
   "metadata": {},
   "outputs": [],
   "source": [
    "total_exercise_count = ex['id'].count()\n",
    "total_level_count = ex['total_levels'].sum()"
   ]
  },
  {
   "cell_type": "code",
   "execution_count": 102,
   "id": "829ee90f",
   "metadata": {},
   "outputs": [],
   "source": [
    "df = pd.read_json('support_files/student_report_itk.json')"
   ]
  },
  {
   "cell_type": "code",
   "execution_count": 103,
   "id": "82e16a19",
   "metadata": {},
   "outputs": [
    {
     "data": {
      "text/plain": [
       "(42347, 11)"
      ]
     },
     "execution_count": 103,
     "metadata": {},
     "output_type": "execute_result"
    }
   ],
   "source": [
    "df.shape"
   ]
  },
  {
   "cell_type": "code",
   "execution_count": 104,
   "id": "d3ef0fbd",
   "metadata": {
    "scrolled": true
   },
   "outputs": [
    {
     "data": {
      "text/html": [
       "<div>\n",
       "<style scoped>\n",
       "    .dataframe tbody tr th:only-of-type {\n",
       "        vertical-align: middle;\n",
       "    }\n",
       "\n",
       "    .dataframe tbody tr th {\n",
       "        vertical-align: top;\n",
       "    }\n",
       "\n",
       "    .dataframe thead th {\n",
       "        text-align: right;\n",
       "    }\n",
       "</style>\n",
       "<table border=\"1\" class=\"dataframe\">\n",
       "  <thead>\n",
       "    <tr style=\"text-align: right;\">\n",
       "      <th></th>\n",
       "      <th>user_id</th>\n",
       "      <th>name</th>\n",
       "      <th>school</th>\n",
       "      <th>grade</th>\n",
       "      <th>division</th>\n",
       "      <th>exercise_id</th>\n",
       "      <th>exercise_name</th>\n",
       "      <th>level</th>\n",
       "      <th>total_levels</th>\n",
       "      <th>level_completion_status</th>\n",
       "      <th>blocks</th>\n",
       "    </tr>\n",
       "  </thead>\n",
       "  <tbody>\n",
       "    <tr>\n",
       "      <th>0</th>\n",
       "      <td>7695</td>\n",
       "      <td>Eva Admin</td>\n",
       "      <td></td>\n",
       "      <td></td>\n",
       "      <td></td>\n",
       "      <td>13</td>\n",
       "      <td>Introduction to Gaming - Grade 5</td>\n",
       "      <td>1</td>\n",
       "      <td>3</td>\n",
       "      <td>0</td>\n",
       "      <td>&lt;xml xmlns=\"https://developers.google.com/bloc...</td>\n",
       "    </tr>\n",
       "    <tr>\n",
       "      <th>1</th>\n",
       "      <td>7695</td>\n",
       "      <td>Eva Admin</td>\n",
       "      <td></td>\n",
       "      <td></td>\n",
       "      <td></td>\n",
       "      <td>13</td>\n",
       "      <td>Introduction to Gaming - Grade 5</td>\n",
       "      <td>2</td>\n",
       "      <td>3</td>\n",
       "      <td>0</td>\n",
       "      <td></td>\n",
       "    </tr>\n",
       "    <tr>\n",
       "      <th>2</th>\n",
       "      <td>1</td>\n",
       "      <td></td>\n",
       "      <td></td>\n",
       "      <td>100</td>\n",
       "      <td>A</td>\n",
       "      <td>1</td>\n",
       "      <td>Fun with Basics</td>\n",
       "      <td>1</td>\n",
       "      <td>10</td>\n",
       "      <td>1</td>\n",
       "      <td>&lt;xml xmlns=\"https://developers.google.com/bloc...</td>\n",
       "    </tr>\n",
       "    <tr>\n",
       "      <th>3</th>\n",
       "      <td>1</td>\n",
       "      <td></td>\n",
       "      <td></td>\n",
       "      <td>100</td>\n",
       "      <td>A</td>\n",
       "      <td>2</td>\n",
       "      <td>Loopy Loops</td>\n",
       "      <td>1</td>\n",
       "      <td>12</td>\n",
       "      <td>0</td>\n",
       "      <td></td>\n",
       "    </tr>\n",
       "    <tr>\n",
       "      <th>4</th>\n",
       "      <td>1</td>\n",
       "      <td></td>\n",
       "      <td></td>\n",
       "      <td>100</td>\n",
       "      <td>A</td>\n",
       "      <td>1</td>\n",
       "      <td>Fun with Basics</td>\n",
       "      <td>2</td>\n",
       "      <td>10</td>\n",
       "      <td>1</td>\n",
       "      <td>&lt;xml xmlns=\"https://developers.google.com/bloc...</td>\n",
       "    </tr>\n",
       "  </tbody>\n",
       "</table>\n",
       "</div>"
      ],
      "text/plain": [
       "   user_id       name school grade division  exercise_id  \\\n",
       "0     7695  Eva Admin                                 13   \n",
       "1     7695  Eva Admin                                 13   \n",
       "2        1                     100        A            1   \n",
       "3        1                     100        A            2   \n",
       "4        1                     100        A            1   \n",
       "\n",
       "                      exercise_name  level  total_levels  \\\n",
       "0  Introduction to Gaming - Grade 5      1             3   \n",
       "1  Introduction to Gaming - Grade 5      2             3   \n",
       "2                   Fun with Basics      1            10   \n",
       "3                       Loopy Loops      1            12   \n",
       "4                   Fun with Basics      2            10   \n",
       "\n",
       "   level_completion_status                                             blocks  \n",
       "0                        0  <xml xmlns=\"https://developers.google.com/bloc...  \n",
       "1                        0                                                     \n",
       "2                        1  <xml xmlns=\"https://developers.google.com/bloc...  \n",
       "3                        0                                                     \n",
       "4                        1  <xml xmlns=\"https://developers.google.com/bloc...  "
      ]
     },
     "execution_count": 104,
     "metadata": {},
     "output_type": "execute_result"
    }
   ],
   "source": [
    "df.head()"
   ]
  },
  {
   "cell_type": "code",
   "execution_count": 105,
   "id": "84f5088e",
   "metadata": {},
   "outputs": [],
   "source": [
    "df = df[~(df['grade']=='')]"
   ]
  },
  {
   "cell_type": "code",
   "execution_count": 106,
   "id": "2611f16a",
   "metadata": {},
   "outputs": [
    {
     "data": {
      "text/plain": [
       "(41851, 11)"
      ]
     },
     "execution_count": 106,
     "metadata": {},
     "output_type": "execute_result"
    }
   ],
   "source": [
    "df.shape"
   ]
  },
  {
   "cell_type": "code",
   "execution_count": 107,
   "id": "7b969782",
   "metadata": {},
   "outputs": [],
   "source": [
    "def count_blocks(xml):\n",
    "    soup = BeautifulSoup(xml, 'html.parser')\n",
    "    return len(soup.find_all('block'))"
   ]
  },
  {
   "cell_type": "code",
   "execution_count": 108,
   "id": "29d69d95",
   "metadata": {},
   "outputs": [],
   "source": [
    "df['block_count'] = df['blocks'].apply(count_blocks)"
   ]
  },
  {
   "cell_type": "code",
   "execution_count": 109,
   "id": "3f05c3a7",
   "metadata": {},
   "outputs": [],
   "source": [
    "def proper_case(string):\n",
    "    parts = string.split(' ')\n",
    "\n",
    "    return ' '.join(word.title() for word in parts[0:])"
   ]
  },
  {
   "cell_type": "code",
   "execution_count": 110,
   "id": "b945de7c",
   "metadata": {},
   "outputs": [],
   "source": [
    "df['name'] = df['name'].apply(proper_case)"
   ]
  },
  {
   "cell_type": "code",
   "execution_count": 111,
   "id": "282f7b73",
   "metadata": {},
   "outputs": [
    {
     "data": {
      "text/html": [
       "<div>\n",
       "<style scoped>\n",
       "    .dataframe tbody tr th:only-of-type {\n",
       "        vertical-align: middle;\n",
       "    }\n",
       "\n",
       "    .dataframe tbody tr th {\n",
       "        vertical-align: top;\n",
       "    }\n",
       "\n",
       "    .dataframe thead th {\n",
       "        text-align: right;\n",
       "    }\n",
       "</style>\n",
       "<table border=\"1\" class=\"dataframe\">\n",
       "  <thead>\n",
       "    <tr style=\"text-align: right;\">\n",
       "      <th></th>\n",
       "      <th>user_id</th>\n",
       "      <th>name</th>\n",
       "      <th>school</th>\n",
       "      <th>grade</th>\n",
       "      <th>division</th>\n",
       "      <th>exercise_id</th>\n",
       "      <th>exercise_name</th>\n",
       "      <th>level</th>\n",
       "      <th>total_levels</th>\n",
       "      <th>level_completion_status</th>\n",
       "      <th>blocks</th>\n",
       "      <th>block_count</th>\n",
       "    </tr>\n",
       "  </thead>\n",
       "  <tbody>\n",
       "    <tr>\n",
       "      <th>2</th>\n",
       "      <td>1</td>\n",
       "      <td></td>\n",
       "      <td></td>\n",
       "      <td>100</td>\n",
       "      <td>A</td>\n",
       "      <td>1</td>\n",
       "      <td>Fun with Basics</td>\n",
       "      <td>1</td>\n",
       "      <td>10</td>\n",
       "      <td>1</td>\n",
       "      <td>&lt;xml xmlns=\"https://developers.google.com/bloc...</td>\n",
       "      <td>4</td>\n",
       "    </tr>\n",
       "    <tr>\n",
       "      <th>3</th>\n",
       "      <td>1</td>\n",
       "      <td></td>\n",
       "      <td></td>\n",
       "      <td>100</td>\n",
       "      <td>A</td>\n",
       "      <td>2</td>\n",
       "      <td>Loopy Loops</td>\n",
       "      <td>1</td>\n",
       "      <td>12</td>\n",
       "      <td>0</td>\n",
       "      <td></td>\n",
       "      <td>0</td>\n",
       "    </tr>\n",
       "    <tr>\n",
       "      <th>4</th>\n",
       "      <td>1</td>\n",
       "      <td></td>\n",
       "      <td></td>\n",
       "      <td>100</td>\n",
       "      <td>A</td>\n",
       "      <td>1</td>\n",
       "      <td>Fun with Basics</td>\n",
       "      <td>2</td>\n",
       "      <td>10</td>\n",
       "      <td>1</td>\n",
       "      <td>&lt;xml xmlns=\"https://developers.google.com/bloc...</td>\n",
       "      <td>6</td>\n",
       "    </tr>\n",
       "    <tr>\n",
       "      <th>5</th>\n",
       "      <td>1</td>\n",
       "      <td></td>\n",
       "      <td></td>\n",
       "      <td>100</td>\n",
       "      <td>A</td>\n",
       "      <td>1</td>\n",
       "      <td>Fun with Basics</td>\n",
       "      <td>3</td>\n",
       "      <td>10</td>\n",
       "      <td>1</td>\n",
       "      <td>&lt;xml xmlns=\"https://developers.google.com/bloc...</td>\n",
       "      <td>9</td>\n",
       "    </tr>\n",
       "    <tr>\n",
       "      <th>6</th>\n",
       "      <td>1</td>\n",
       "      <td></td>\n",
       "      <td></td>\n",
       "      <td>100</td>\n",
       "      <td>A</td>\n",
       "      <td>1</td>\n",
       "      <td>Fun with Basics</td>\n",
       "      <td>4</td>\n",
       "      <td>10</td>\n",
       "      <td>0</td>\n",
       "      <td></td>\n",
       "      <td>0</td>\n",
       "    </tr>\n",
       "  </tbody>\n",
       "</table>\n",
       "</div>"
      ],
      "text/plain": [
       "   user_id name school grade division  exercise_id    exercise_name  level  \\\n",
       "2        1               100        A            1  Fun with Basics      1   \n",
       "3        1               100        A            2      Loopy Loops      1   \n",
       "4        1               100        A            1  Fun with Basics      2   \n",
       "5        1               100        A            1  Fun with Basics      3   \n",
       "6        1               100        A            1  Fun with Basics      4   \n",
       "\n",
       "   total_levels  level_completion_status  \\\n",
       "2            10                        1   \n",
       "3            12                        0   \n",
       "4            10                        1   \n",
       "5            10                        1   \n",
       "6            10                        0   \n",
       "\n",
       "                                              blocks  block_count  \n",
       "2  <xml xmlns=\"https://developers.google.com/bloc...            4  \n",
       "3                                                               0  \n",
       "4  <xml xmlns=\"https://developers.google.com/bloc...            6  \n",
       "5  <xml xmlns=\"https://developers.google.com/bloc...            9  \n",
       "6                                                               0  "
      ]
     },
     "execution_count": 111,
     "metadata": {},
     "output_type": "execute_result"
    }
   ],
   "source": [
    "df.head()"
   ]
  },
  {
   "cell_type": "code",
   "execution_count": 112,
   "id": "88c7e0fc",
   "metadata": {},
   "outputs": [
    {
     "data": {
      "text/plain": [
       "(41851, 12)"
      ]
     },
     "execution_count": 112,
     "metadata": {},
     "output_type": "execute_result"
    }
   ],
   "source": [
    "df.shape"
   ]
  },
  {
   "cell_type": "code",
   "execution_count": 113,
   "id": "5fab7fcb",
   "metadata": {},
   "outputs": [],
   "source": [
    "df_lev_completed = df[df['level_completion_status']==1]"
   ]
  },
  {
   "cell_type": "code",
   "execution_count": 114,
   "id": "0d5ff39c",
   "metadata": {},
   "outputs": [
    {
     "data": {
      "text/plain": [
       "(30909, 12)"
      ]
     },
     "execution_count": 114,
     "metadata": {},
     "output_type": "execute_result"
    }
   ],
   "source": [
    "df_lev_completed.shape"
   ]
  },
  {
   "cell_type": "markdown",
   "id": "26934078",
   "metadata": {},
   "source": [
    "# BLOCK 1 up 30% students\n",
    "\n",
    "Levels Completed | School Average | Exercises Completed | School Average"
   ]
  },
  {
   "cell_type": "code",
   "execution_count": 115,
   "id": "8c8b9a82",
   "metadata": {},
   "outputs": [],
   "source": [
    "df_ex_completed = df_lev_completed.groupby(['user_id', 'name', 'grade', 'division', 'exercise_id', 'total_levels']).agg(\n",
    "    levels_done=('level_completion_status', 'sum')).reset_index()"
   ]
  },
  {
   "cell_type": "code",
   "execution_count": 116,
   "id": "a87a2c4f",
   "metadata": {},
   "outputs": [
    {
     "data": {
      "text/html": [
       "<div>\n",
       "<style scoped>\n",
       "    .dataframe tbody tr th:only-of-type {\n",
       "        vertical-align: middle;\n",
       "    }\n",
       "\n",
       "    .dataframe tbody tr th {\n",
       "        vertical-align: top;\n",
       "    }\n",
       "\n",
       "    .dataframe thead th {\n",
       "        text-align: right;\n",
       "    }\n",
       "</style>\n",
       "<table border=\"1\" class=\"dataframe\">\n",
       "  <thead>\n",
       "    <tr style=\"text-align: right;\">\n",
       "      <th></th>\n",
       "      <th>user_id</th>\n",
       "      <th>name</th>\n",
       "      <th>grade</th>\n",
       "      <th>division</th>\n",
       "      <th>exercise_id</th>\n",
       "      <th>total_levels</th>\n",
       "      <th>levels_done</th>\n",
       "    </tr>\n",
       "  </thead>\n",
       "  <tbody>\n",
       "    <tr>\n",
       "      <th>0</th>\n",
       "      <td>1</td>\n",
       "      <td></td>\n",
       "      <td>100</td>\n",
       "      <td>A</td>\n",
       "      <td>1</td>\n",
       "      <td>10</td>\n",
       "      <td>3</td>\n",
       "    </tr>\n",
       "    <tr>\n",
       "      <th>1</th>\n",
       "      <td>4682</td>\n",
       "      <td>A Isha Angel</td>\n",
       "      <td>3</td>\n",
       "      <td>Garnet</td>\n",
       "      <td>1</td>\n",
       "      <td>10</td>\n",
       "      <td>5</td>\n",
       "    </tr>\n",
       "    <tr>\n",
       "      <th>2</th>\n",
       "      <td>4682</td>\n",
       "      <td>A Isha Angel</td>\n",
       "      <td>3</td>\n",
       "      <td>Garnet</td>\n",
       "      <td>2</td>\n",
       "      <td>12</td>\n",
       "      <td>1</td>\n",
       "    </tr>\n",
       "    <tr>\n",
       "      <th>3</th>\n",
       "      <td>4682</td>\n",
       "      <td>A Isha Angel</td>\n",
       "      <td>3</td>\n",
       "      <td>Garnet</td>\n",
       "      <td>8</td>\n",
       "      <td>8</td>\n",
       "      <td>1</td>\n",
       "    </tr>\n",
       "    <tr>\n",
       "      <th>4</th>\n",
       "      <td>4683</td>\n",
       "      <td>A Joy Samuel</td>\n",
       "      <td>2</td>\n",
       "      <td>Zircon</td>\n",
       "      <td>1</td>\n",
       "      <td>10</td>\n",
       "      <td>1</td>\n",
       "    </tr>\n",
       "  </tbody>\n",
       "</table>\n",
       "</div>"
      ],
      "text/plain": [
       "   user_id          name grade division  exercise_id  total_levels  \\\n",
       "0        1                 100        A            1            10   \n",
       "1     4682  A Isha Angel     3   Garnet            1            10   \n",
       "2     4682  A Isha Angel     3   Garnet            2            12   \n",
       "3     4682  A Isha Angel     3   Garnet            8             8   \n",
       "4     4683  A Joy Samuel     2   Zircon            1            10   \n",
       "\n",
       "   levels_done  \n",
       "0            3  \n",
       "1            5  \n",
       "2            1  \n",
       "3            1  \n",
       "4            1  "
      ]
     },
     "execution_count": 116,
     "metadata": {},
     "output_type": "execute_result"
    }
   ],
   "source": [
    "df_ex_completed.head()"
   ]
  },
  {
   "cell_type": "code",
   "execution_count": 117,
   "id": "74b21aaf",
   "metadata": {},
   "outputs": [],
   "source": [
    "#to get students who have completed exercise more than 30% threshold and to add the ex_completion status flag\n",
    "\n",
    "threshold = 0.3 * df_ex_completed['total_levels']\n",
    "df_ex_completed['ex_completion_status'] = (df_ex_completed['levels_done']>threshold).astype(int)"
   ]
  },
  {
   "cell_type": "code",
   "execution_count": 118,
   "id": "15636b96",
   "metadata": {},
   "outputs": [],
   "source": [
    "df_ex_completed = df_ex_completed[['user_id', 'name', 'grade', 'division', 'exercise_id', 'ex_completion_status', 'total_levels',\n",
    "       'levels_done']]"
   ]
  },
  {
   "cell_type": "code",
   "execution_count": 119,
   "id": "2ac515fe",
   "metadata": {},
   "outputs": [
    {
     "data": {
      "text/html": [
       "<div>\n",
       "<style scoped>\n",
       "    .dataframe tbody tr th:only-of-type {\n",
       "        vertical-align: middle;\n",
       "    }\n",
       "\n",
       "    .dataframe tbody tr th {\n",
       "        vertical-align: top;\n",
       "    }\n",
       "\n",
       "    .dataframe thead th {\n",
       "        text-align: right;\n",
       "    }\n",
       "</style>\n",
       "<table border=\"1\" class=\"dataframe\">\n",
       "  <thead>\n",
       "    <tr style=\"text-align: right;\">\n",
       "      <th></th>\n",
       "      <th>user_id</th>\n",
       "      <th>name</th>\n",
       "      <th>grade</th>\n",
       "      <th>division</th>\n",
       "      <th>exercise_id</th>\n",
       "      <th>ex_completion_status</th>\n",
       "      <th>total_levels</th>\n",
       "      <th>levels_done</th>\n",
       "    </tr>\n",
       "  </thead>\n",
       "  <tbody>\n",
       "    <tr>\n",
       "      <th>0</th>\n",
       "      <td>1</td>\n",
       "      <td></td>\n",
       "      <td>100</td>\n",
       "      <td>A</td>\n",
       "      <td>1</td>\n",
       "      <td>0</td>\n",
       "      <td>10</td>\n",
       "      <td>3</td>\n",
       "    </tr>\n",
       "    <tr>\n",
       "      <th>1</th>\n",
       "      <td>4682</td>\n",
       "      <td>A Isha Angel</td>\n",
       "      <td>3</td>\n",
       "      <td>Garnet</td>\n",
       "      <td>1</td>\n",
       "      <td>1</td>\n",
       "      <td>10</td>\n",
       "      <td>5</td>\n",
       "    </tr>\n",
       "    <tr>\n",
       "      <th>2</th>\n",
       "      <td>4682</td>\n",
       "      <td>A Isha Angel</td>\n",
       "      <td>3</td>\n",
       "      <td>Garnet</td>\n",
       "      <td>2</td>\n",
       "      <td>0</td>\n",
       "      <td>12</td>\n",
       "      <td>1</td>\n",
       "    </tr>\n",
       "    <tr>\n",
       "      <th>3</th>\n",
       "      <td>4682</td>\n",
       "      <td>A Isha Angel</td>\n",
       "      <td>3</td>\n",
       "      <td>Garnet</td>\n",
       "      <td>8</td>\n",
       "      <td>0</td>\n",
       "      <td>8</td>\n",
       "      <td>1</td>\n",
       "    </tr>\n",
       "    <tr>\n",
       "      <th>4</th>\n",
       "      <td>4683</td>\n",
       "      <td>A Joy Samuel</td>\n",
       "      <td>2</td>\n",
       "      <td>Zircon</td>\n",
       "      <td>1</td>\n",
       "      <td>0</td>\n",
       "      <td>10</td>\n",
       "      <td>1</td>\n",
       "    </tr>\n",
       "  </tbody>\n",
       "</table>\n",
       "</div>"
      ],
      "text/plain": [
       "   user_id          name grade division  exercise_id  ex_completion_status  \\\n",
       "0        1                 100        A            1                     0   \n",
       "1     4682  A Isha Angel     3   Garnet            1                     1   \n",
       "2     4682  A Isha Angel     3   Garnet            2                     0   \n",
       "3     4682  A Isha Angel     3   Garnet            8                     0   \n",
       "4     4683  A Joy Samuel     2   Zircon            1                     0   \n",
       "\n",
       "   total_levels  levels_done  \n",
       "0            10            3  \n",
       "1            10            5  \n",
       "2            12            1  \n",
       "3             8            1  \n",
       "4            10            1  "
      ]
     },
     "execution_count": 119,
     "metadata": {},
     "output_type": "execute_result"
    }
   ],
   "source": [
    "df_ex_completed.head()"
   ]
  },
  {
   "cell_type": "code",
   "execution_count": 120,
   "id": "f85b9128",
   "metadata": {},
   "outputs": [],
   "source": [
    "#merging eitht the orignal df to get school for these students\n",
    "\n",
    "df_wo_duplicates = df.drop_duplicates(subset=['user_id']).reset_index()"
   ]
  },
  {
   "cell_type": "code",
   "execution_count": 121,
   "id": "a601e66d",
   "metadata": {},
   "outputs": [
    {
     "data": {
      "text/plain": [
       "(2023, 13)"
      ]
     },
     "execution_count": 121,
     "metadata": {},
     "output_type": "execute_result"
    }
   ],
   "source": [
    "df_wo_duplicates.shape"
   ]
  },
  {
   "cell_type": "code",
   "execution_count": 122,
   "id": "9ae6071e",
   "metadata": {},
   "outputs": [],
   "source": [
    "report_block1 = pd.merge(df_ex_completed, df_wo_duplicates[['user_id', 'school']], on='user_id', how='left').reset_index()"
   ]
  },
  {
   "cell_type": "code",
   "execution_count": 123,
   "id": "c1bf49b7",
   "metadata": {},
   "outputs": [
    {
     "data": {
      "text/plain": [
       "(5113, 10)"
      ]
     },
     "execution_count": 123,
     "metadata": {},
     "output_type": "execute_result"
    }
   ],
   "source": [
    "report_block1.shape"
   ]
  },
  {
   "cell_type": "code",
   "execution_count": 124,
   "id": "bb16e030",
   "metadata": {},
   "outputs": [
    {
     "data": {
      "text/html": [
       "<div>\n",
       "<style scoped>\n",
       "    .dataframe tbody tr th:only-of-type {\n",
       "        vertical-align: middle;\n",
       "    }\n",
       "\n",
       "    .dataframe tbody tr th {\n",
       "        vertical-align: top;\n",
       "    }\n",
       "\n",
       "    .dataframe thead th {\n",
       "        text-align: right;\n",
       "    }\n",
       "</style>\n",
       "<table border=\"1\" class=\"dataframe\">\n",
       "  <thead>\n",
       "    <tr style=\"text-align: right;\">\n",
       "      <th></th>\n",
       "      <th>index</th>\n",
       "      <th>user_id</th>\n",
       "      <th>name</th>\n",
       "      <th>grade</th>\n",
       "      <th>division</th>\n",
       "      <th>exercise_id</th>\n",
       "      <th>ex_completion_status</th>\n",
       "      <th>total_levels</th>\n",
       "      <th>levels_done</th>\n",
       "      <th>school</th>\n",
       "    </tr>\n",
       "  </thead>\n",
       "  <tbody>\n",
       "    <tr>\n",
       "      <th>0</th>\n",
       "      <td>0</td>\n",
       "      <td>1</td>\n",
       "      <td></td>\n",
       "      <td>100</td>\n",
       "      <td>A</td>\n",
       "      <td>1</td>\n",
       "      <td>0</td>\n",
       "      <td>10</td>\n",
       "      <td>3</td>\n",
       "      <td></td>\n",
       "    </tr>\n",
       "    <tr>\n",
       "      <th>1</th>\n",
       "      <td>1</td>\n",
       "      <td>4682</td>\n",
       "      <td>A Isha Angel</td>\n",
       "      <td>3</td>\n",
       "      <td>Garnet</td>\n",
       "      <td>1</td>\n",
       "      <td>1</td>\n",
       "      <td>10</td>\n",
       "      <td>5</td>\n",
       "      <td>Eva World School</td>\n",
       "    </tr>\n",
       "    <tr>\n",
       "      <th>2</th>\n",
       "      <td>2</td>\n",
       "      <td>4682</td>\n",
       "      <td>A Isha Angel</td>\n",
       "      <td>3</td>\n",
       "      <td>Garnet</td>\n",
       "      <td>2</td>\n",
       "      <td>0</td>\n",
       "      <td>12</td>\n",
       "      <td>1</td>\n",
       "      <td>Eva World School</td>\n",
       "    </tr>\n",
       "    <tr>\n",
       "      <th>3</th>\n",
       "      <td>3</td>\n",
       "      <td>4682</td>\n",
       "      <td>A Isha Angel</td>\n",
       "      <td>3</td>\n",
       "      <td>Garnet</td>\n",
       "      <td>8</td>\n",
       "      <td>0</td>\n",
       "      <td>8</td>\n",
       "      <td>1</td>\n",
       "      <td>Eva World School</td>\n",
       "    </tr>\n",
       "    <tr>\n",
       "      <th>4</th>\n",
       "      <td>4</td>\n",
       "      <td>4683</td>\n",
       "      <td>A Joy Samuel</td>\n",
       "      <td>2</td>\n",
       "      <td>Zircon</td>\n",
       "      <td>1</td>\n",
       "      <td>0</td>\n",
       "      <td>10</td>\n",
       "      <td>1</td>\n",
       "      <td>Eva World School</td>\n",
       "    </tr>\n",
       "  </tbody>\n",
       "</table>\n",
       "</div>"
      ],
      "text/plain": [
       "   index  user_id          name grade division  exercise_id  \\\n",
       "0      0        1                 100        A            1   \n",
       "1      1     4682  A Isha Angel     3   Garnet            1   \n",
       "2      2     4682  A Isha Angel     3   Garnet            2   \n",
       "3      3     4682  A Isha Angel     3   Garnet            8   \n",
       "4      4     4683  A Joy Samuel     2   Zircon            1   \n",
       "\n",
       "   ex_completion_status  total_levels  levels_done            school  \n",
       "0                     0            10            3                    \n",
       "1                     1            10            5  Eva World School  \n",
       "2                     0            12            1  Eva World School  \n",
       "3                     0             8            1  Eva World School  \n",
       "4                     0            10            1  Eva World School  "
      ]
     },
     "execution_count": 124,
     "metadata": {},
     "output_type": "execute_result"
    }
   ],
   "source": [
    "report_block1.head()"
   ]
  },
  {
   "cell_type": "code",
   "execution_count": 125,
   "id": "83d2dde9",
   "metadata": {},
   "outputs": [],
   "source": [
    "#removing all students who have not completed 30% of the ex based on the ex_completion_flag\n",
    "\n",
    "report_block1 = report_block1[~(report_block1['ex_completion_status']==0)]"
   ]
  },
  {
   "cell_type": "code",
   "execution_count": 126,
   "id": "94d804ce",
   "metadata": {},
   "outputs": [
    {
     "data": {
      "text/plain": [
       "(3948, 10)"
      ]
     },
     "execution_count": 126,
     "metadata": {},
     "output_type": "execute_result"
    }
   ],
   "source": [
    "report_block1.shape"
   ]
  },
  {
   "cell_type": "code",
   "execution_count": 127,
   "id": "0884ccb3",
   "metadata": {},
   "outputs": [],
   "source": [
    "report_block1 = report_block1.groupby(['user_id', 'name', 'grade', 'division', 'school']).agg(total_ex_done=('ex_completion_status', 'sum'), total_levels_done=('levels_done', 'sum')).reset_index()"
   ]
  },
  {
   "cell_type": "code",
   "execution_count": 128,
   "id": "a220ddf4",
   "metadata": {},
   "outputs": [
    {
     "data": {
      "text/html": [
       "<div>\n",
       "<style scoped>\n",
       "    .dataframe tbody tr th:only-of-type {\n",
       "        vertical-align: middle;\n",
       "    }\n",
       "\n",
       "    .dataframe tbody tr th {\n",
       "        vertical-align: top;\n",
       "    }\n",
       "\n",
       "    .dataframe thead th {\n",
       "        text-align: right;\n",
       "    }\n",
       "</style>\n",
       "<table border=\"1\" class=\"dataframe\">\n",
       "  <thead>\n",
       "    <tr style=\"text-align: right;\">\n",
       "      <th></th>\n",
       "      <th>user_id</th>\n",
       "      <th>name</th>\n",
       "      <th>grade</th>\n",
       "      <th>division</th>\n",
       "      <th>school</th>\n",
       "      <th>total_ex_done</th>\n",
       "      <th>total_levels_done</th>\n",
       "    </tr>\n",
       "  </thead>\n",
       "  <tbody>\n",
       "    <tr>\n",
       "      <th>0</th>\n",
       "      <td>4682</td>\n",
       "      <td>A Isha Angel</td>\n",
       "      <td>3</td>\n",
       "      <td>Garnet</td>\n",
       "      <td>Eva World School</td>\n",
       "      <td>1</td>\n",
       "      <td>5</td>\n",
       "    </tr>\n",
       "    <tr>\n",
       "      <th>1</th>\n",
       "      <td>4685</td>\n",
       "      <td>Aadit Jignesh Limbani</td>\n",
       "      <td>1</td>\n",
       "      <td>Sapphire</td>\n",
       "      <td>Eva World School</td>\n",
       "      <td>4</td>\n",
       "      <td>29</td>\n",
       "    </tr>\n",
       "    <tr>\n",
       "      <th>2</th>\n",
       "      <td>4692</td>\n",
       "      <td>Aaradhya Harshal Sonar</td>\n",
       "      <td>4</td>\n",
       "      <td>Morgonite</td>\n",
       "      <td>Eva World School</td>\n",
       "      <td>1</td>\n",
       "      <td>5</td>\n",
       "    </tr>\n",
       "    <tr>\n",
       "      <th>3</th>\n",
       "      <td>4693</td>\n",
       "      <td>Aaradhya Singh</td>\n",
       "      <td>3</td>\n",
       "      <td>Garnet</td>\n",
       "      <td>Eva World School</td>\n",
       "      <td>2</td>\n",
       "      <td>12</td>\n",
       "    </tr>\n",
       "    <tr>\n",
       "      <th>4</th>\n",
       "      <td>4696</td>\n",
       "      <td>Aarav Amit Mathur</td>\n",
       "      <td>3</td>\n",
       "      <td>Garnet</td>\n",
       "      <td>Eva World School</td>\n",
       "      <td>1</td>\n",
       "      <td>4</td>\n",
       "    </tr>\n",
       "  </tbody>\n",
       "</table>\n",
       "</div>"
      ],
      "text/plain": [
       "   user_id                    name grade   division            school  \\\n",
       "0     4682            A Isha Angel     3     Garnet  Eva World School   \n",
       "1     4685   Aadit Jignesh Limbani     1   Sapphire  Eva World School   \n",
       "2     4692  Aaradhya Harshal Sonar     4  Morgonite  Eva World School   \n",
       "3     4693          Aaradhya Singh     3     Garnet  Eva World School   \n",
       "4     4696       Aarav Amit Mathur     3     Garnet  Eva World School   \n",
       "\n",
       "   total_ex_done  total_levels_done  \n",
       "0              1                  5  \n",
       "1              4                 29  \n",
       "2              1                  5  \n",
       "3              2                 12  \n",
       "4              1                  4  "
      ]
     },
     "execution_count": 128,
     "metadata": {},
     "output_type": "execute_result"
    }
   ],
   "source": [
    "report_block1.head()"
   ]
  },
  {
   "cell_type": "code",
   "execution_count": 129,
   "id": "42be4d90",
   "metadata": {},
   "outputs": [
    {
     "data": {
      "text/plain": [
       "(1765, 7)"
      ]
     },
     "execution_count": 129,
     "metadata": {},
     "output_type": "execute_result"
    }
   ],
   "source": [
    "report_block1.shape"
   ]
  },
  {
   "cell_type": "code",
   "execution_count": 130,
   "id": "78ce3224",
   "metadata": {},
   "outputs": [],
   "source": [
    "#get the no of unique students in the df to further calculate the school average\n",
    "#PS formulae is total no of (ex/lv) done / students who have done the same atlease once\n",
    "\n",
    "unique_students = report_block1.groupby(['school']).agg(student_count = ('user_id', 'nunique'))"
   ]
  },
  {
   "cell_type": "code",
   "execution_count": 131,
   "id": "e8ae484a",
   "metadata": {},
   "outputs": [],
   "source": [
    "total_levels = report_block1.groupby(['school']).agg(lev_done = ('total_levels_done', 'sum'))"
   ]
  },
  {
   "cell_type": "code",
   "execution_count": 132,
   "id": "58ea1662",
   "metadata": {},
   "outputs": [],
   "source": [
    "average_lev = pd.merge(unique_students, total_levels, on='school', how='left')"
   ]
  },
  {
   "cell_type": "code",
   "execution_count": 133,
   "id": "b34085bf",
   "metadata": {},
   "outputs": [
    {
     "data": {
      "text/html": [
       "<div>\n",
       "<style scoped>\n",
       "    .dataframe tbody tr th:only-of-type {\n",
       "        vertical-align: middle;\n",
       "    }\n",
       "\n",
       "    .dataframe tbody tr th {\n",
       "        vertical-align: top;\n",
       "    }\n",
       "\n",
       "    .dataframe thead th {\n",
       "        text-align: right;\n",
       "    }\n",
       "</style>\n",
       "<table border=\"1\" class=\"dataframe\">\n",
       "  <thead>\n",
       "    <tr style=\"text-align: right;\">\n",
       "      <th></th>\n",
       "      <th>student_count</th>\n",
       "      <th>lev_done</th>\n",
       "    </tr>\n",
       "    <tr>\n",
       "      <th>school</th>\n",
       "      <th></th>\n",
       "      <th></th>\n",
       "    </tr>\n",
       "  </thead>\n",
       "  <tbody>\n",
       "    <tr>\n",
       "      <th>Bhiwandi School</th>\n",
       "      <td>82</td>\n",
       "      <td>1457</td>\n",
       "    </tr>\n",
       "    <tr>\n",
       "      <th>DWPS</th>\n",
       "      <td>295</td>\n",
       "      <td>4762</td>\n",
       "    </tr>\n",
       "    <tr>\n",
       "      <th>Eva Indore</th>\n",
       "      <td>185</td>\n",
       "      <td>4241</td>\n",
       "    </tr>\n",
       "    <tr>\n",
       "      <th>Eva Thane</th>\n",
       "      <td>102</td>\n",
       "      <td>2180</td>\n",
       "    </tr>\n",
       "    <tr>\n",
       "      <th>Eva World School</th>\n",
       "      <td>501</td>\n",
       "      <td>7222</td>\n",
       "    </tr>\n",
       "    <tr>\n",
       "      <th>IRA</th>\n",
       "      <td>308</td>\n",
       "      <td>4083</td>\n",
       "    </tr>\n",
       "    <tr>\n",
       "      <th>SKS</th>\n",
       "      <td>292</td>\n",
       "      <td>4845</td>\n",
       "    </tr>\n",
       "  </tbody>\n",
       "</table>\n",
       "</div>"
      ],
      "text/plain": [
       "                  student_count  lev_done\n",
       "school                                   \n",
       "Bhiwandi School              82      1457\n",
       "DWPS                        295      4762\n",
       "Eva Indore                  185      4241\n",
       "Eva Thane                   102      2180\n",
       "Eva World School            501      7222\n",
       "IRA                         308      4083\n",
       "SKS                         292      4845"
      ]
     },
     "execution_count": 133,
     "metadata": {},
     "output_type": "execute_result"
    }
   ],
   "source": [
    "average_lev"
   ]
  },
  {
   "cell_type": "code",
   "execution_count": 134,
   "id": "c90083de",
   "metadata": {},
   "outputs": [],
   "source": [
    "average_lev['average'] = (average_lev['lev_done'] / average_lev['student_count']).round(2)"
   ]
  },
  {
   "cell_type": "code",
   "execution_count": 135,
   "id": "b7174dad",
   "metadata": {},
   "outputs": [],
   "source": [
    "average_lev_dict = dict(zip(list(average_lev.index), average_lev['average']))"
   ]
  },
  {
   "cell_type": "code",
   "execution_count": 136,
   "id": "5fec9388",
   "metadata": {},
   "outputs": [
    {
     "data": {
      "text/plain": [
       "{'Bhiwandi School': 17.77,\n",
       " 'DWPS': 16.14,\n",
       " 'Eva Indore': 22.92,\n",
       " 'Eva Thane': 21.37,\n",
       " 'Eva World School': 14.42,\n",
       " 'IRA': 13.26,\n",
       " 'SKS': 16.59}"
      ]
     },
     "execution_count": 136,
     "metadata": {},
     "output_type": "execute_result"
    }
   ],
   "source": [
    "average_lev_dict"
   ]
  },
  {
   "cell_type": "code",
   "execution_count": 137,
   "id": "6af10f2f",
   "metadata": {},
   "outputs": [],
   "source": [
    "total_ex = report_block1.groupby(['school']).agg(ex_done = ('total_ex_done', 'sum'))"
   ]
  },
  {
   "cell_type": "code",
   "execution_count": 138,
   "id": "5122d3d7",
   "metadata": {},
   "outputs": [
    {
     "data": {
      "text/html": [
       "<div>\n",
       "<style scoped>\n",
       "    .dataframe tbody tr th:only-of-type {\n",
       "        vertical-align: middle;\n",
       "    }\n",
       "\n",
       "    .dataframe tbody tr th {\n",
       "        vertical-align: top;\n",
       "    }\n",
       "\n",
       "    .dataframe thead th {\n",
       "        text-align: right;\n",
       "    }\n",
       "</style>\n",
       "<table border=\"1\" class=\"dataframe\">\n",
       "  <thead>\n",
       "    <tr style=\"text-align: right;\">\n",
       "      <th></th>\n",
       "      <th>ex_done</th>\n",
       "    </tr>\n",
       "    <tr>\n",
       "      <th>school</th>\n",
       "      <th></th>\n",
       "    </tr>\n",
       "  </thead>\n",
       "  <tbody>\n",
       "    <tr>\n",
       "      <th>Bhiwandi School</th>\n",
       "      <td>212</td>\n",
       "    </tr>\n",
       "    <tr>\n",
       "      <th>DWPS</th>\n",
       "      <td>627</td>\n",
       "    </tr>\n",
       "    <tr>\n",
       "      <th>Eva Indore</th>\n",
       "      <td>520</td>\n",
       "    </tr>\n",
       "    <tr>\n",
       "      <th>Eva Thane</th>\n",
       "      <td>287</td>\n",
       "    </tr>\n",
       "    <tr>\n",
       "      <th>Eva World School</th>\n",
       "      <td>1058</td>\n",
       "    </tr>\n",
       "    <tr>\n",
       "      <th>IRA</th>\n",
       "      <td>588</td>\n",
       "    </tr>\n",
       "    <tr>\n",
       "      <th>SKS</th>\n",
       "      <td>656</td>\n",
       "    </tr>\n",
       "  </tbody>\n",
       "</table>\n",
       "</div>"
      ],
      "text/plain": [
       "                  ex_done\n",
       "school                   \n",
       "Bhiwandi School       212\n",
       "DWPS                  627\n",
       "Eva Indore            520\n",
       "Eva Thane             287\n",
       "Eva World School     1058\n",
       "IRA                   588\n",
       "SKS                   656"
      ]
     },
     "execution_count": 138,
     "metadata": {},
     "output_type": "execute_result"
    }
   ],
   "source": [
    "total_ex"
   ]
  },
  {
   "cell_type": "code",
   "execution_count": 139,
   "id": "75d40854",
   "metadata": {},
   "outputs": [],
   "source": [
    "average_ex = pd.merge(unique_students, total_ex, on='school', how='left')"
   ]
  },
  {
   "cell_type": "code",
   "execution_count": 140,
   "id": "87c10c95",
   "metadata": {},
   "outputs": [
    {
     "data": {
      "text/html": [
       "<div>\n",
       "<style scoped>\n",
       "    .dataframe tbody tr th:only-of-type {\n",
       "        vertical-align: middle;\n",
       "    }\n",
       "\n",
       "    .dataframe tbody tr th {\n",
       "        vertical-align: top;\n",
       "    }\n",
       "\n",
       "    .dataframe thead th {\n",
       "        text-align: right;\n",
       "    }\n",
       "</style>\n",
       "<table border=\"1\" class=\"dataframe\">\n",
       "  <thead>\n",
       "    <tr style=\"text-align: right;\">\n",
       "      <th></th>\n",
       "      <th>student_count</th>\n",
       "      <th>ex_done</th>\n",
       "    </tr>\n",
       "    <tr>\n",
       "      <th>school</th>\n",
       "      <th></th>\n",
       "      <th></th>\n",
       "    </tr>\n",
       "  </thead>\n",
       "  <tbody>\n",
       "    <tr>\n",
       "      <th>Bhiwandi School</th>\n",
       "      <td>82</td>\n",
       "      <td>212</td>\n",
       "    </tr>\n",
       "    <tr>\n",
       "      <th>DWPS</th>\n",
       "      <td>295</td>\n",
       "      <td>627</td>\n",
       "    </tr>\n",
       "    <tr>\n",
       "      <th>Eva Indore</th>\n",
       "      <td>185</td>\n",
       "      <td>520</td>\n",
       "    </tr>\n",
       "    <tr>\n",
       "      <th>Eva Thane</th>\n",
       "      <td>102</td>\n",
       "      <td>287</td>\n",
       "    </tr>\n",
       "    <tr>\n",
       "      <th>Eva World School</th>\n",
       "      <td>501</td>\n",
       "      <td>1058</td>\n",
       "    </tr>\n",
       "    <tr>\n",
       "      <th>IRA</th>\n",
       "      <td>308</td>\n",
       "      <td>588</td>\n",
       "    </tr>\n",
       "    <tr>\n",
       "      <th>SKS</th>\n",
       "      <td>292</td>\n",
       "      <td>656</td>\n",
       "    </tr>\n",
       "  </tbody>\n",
       "</table>\n",
       "</div>"
      ],
      "text/plain": [
       "                  student_count  ex_done\n",
       "school                                  \n",
       "Bhiwandi School              82      212\n",
       "DWPS                        295      627\n",
       "Eva Indore                  185      520\n",
       "Eva Thane                   102      287\n",
       "Eva World School            501     1058\n",
       "IRA                         308      588\n",
       "SKS                         292      656"
      ]
     },
     "execution_count": 140,
     "metadata": {},
     "output_type": "execute_result"
    }
   ],
   "source": [
    "average_ex"
   ]
  },
  {
   "cell_type": "code",
   "execution_count": 141,
   "id": "13828f18",
   "metadata": {},
   "outputs": [],
   "source": [
    "average_ex['average'] = (average_ex['ex_done'] / average_ex['student_count']).round(2)"
   ]
  },
  {
   "cell_type": "code",
   "execution_count": 142,
   "id": "3b6ad634",
   "metadata": {},
   "outputs": [],
   "source": [
    "average_ex_dict = dict(zip(list(average_ex.index), average_ex['average']))"
   ]
  },
  {
   "cell_type": "code",
   "execution_count": 143,
   "id": "d022f9f1",
   "metadata": {},
   "outputs": [
    {
     "data": {
      "text/plain": [
       "{'Bhiwandi School': 2.59,\n",
       " 'DWPS': 2.13,\n",
       " 'Eva Indore': 2.81,\n",
       " 'Eva Thane': 2.81,\n",
       " 'Eva World School': 2.11,\n",
       " 'IRA': 1.91,\n",
       " 'SKS': 2.25}"
      ]
     },
     "execution_count": 143,
     "metadata": {},
     "output_type": "execute_result"
    }
   ],
   "source": [
    "average_ex_dict"
   ]
  },
  {
   "cell_type": "code",
   "execution_count": 144,
   "id": "82b034d7",
   "metadata": {},
   "outputs": [],
   "source": [
    "report_block1['school_ex_avg'] = report_block1['school'].map(average_ex_dict)"
   ]
  },
  {
   "cell_type": "code",
   "execution_count": 145,
   "id": "797b9d8b",
   "metadata": {},
   "outputs": [],
   "source": [
    "report_block1['school_lev_avg'] = report_block1['school'].map(average_lev_dict)"
   ]
  },
  {
   "cell_type": "code",
   "execution_count": 146,
   "id": "12e0cebb",
   "metadata": {},
   "outputs": [
    {
     "data": {
      "text/html": [
       "<div>\n",
       "<style scoped>\n",
       "    .dataframe tbody tr th:only-of-type {\n",
       "        vertical-align: middle;\n",
       "    }\n",
       "\n",
       "    .dataframe tbody tr th {\n",
       "        vertical-align: top;\n",
       "    }\n",
       "\n",
       "    .dataframe thead th {\n",
       "        text-align: right;\n",
       "    }\n",
       "</style>\n",
       "<table border=\"1\" class=\"dataframe\">\n",
       "  <thead>\n",
       "    <tr style=\"text-align: right;\">\n",
       "      <th></th>\n",
       "      <th>user_id</th>\n",
       "      <th>name</th>\n",
       "      <th>grade</th>\n",
       "      <th>division</th>\n",
       "      <th>school</th>\n",
       "      <th>total_ex_done</th>\n",
       "      <th>total_levels_done</th>\n",
       "      <th>school_ex_avg</th>\n",
       "      <th>school_lev_avg</th>\n",
       "    </tr>\n",
       "  </thead>\n",
       "  <tbody>\n",
       "    <tr>\n",
       "      <th>0</th>\n",
       "      <td>4682</td>\n",
       "      <td>A Isha Angel</td>\n",
       "      <td>3</td>\n",
       "      <td>Garnet</td>\n",
       "      <td>Eva World School</td>\n",
       "      <td>1</td>\n",
       "      <td>5</td>\n",
       "      <td>2.11</td>\n",
       "      <td>14.42</td>\n",
       "    </tr>\n",
       "    <tr>\n",
       "      <th>1</th>\n",
       "      <td>4685</td>\n",
       "      <td>Aadit Jignesh Limbani</td>\n",
       "      <td>1</td>\n",
       "      <td>Sapphire</td>\n",
       "      <td>Eva World School</td>\n",
       "      <td>4</td>\n",
       "      <td>29</td>\n",
       "      <td>2.11</td>\n",
       "      <td>14.42</td>\n",
       "    </tr>\n",
       "    <tr>\n",
       "      <th>2</th>\n",
       "      <td>4692</td>\n",
       "      <td>Aaradhya Harshal Sonar</td>\n",
       "      <td>4</td>\n",
       "      <td>Morgonite</td>\n",
       "      <td>Eva World School</td>\n",
       "      <td>1</td>\n",
       "      <td>5</td>\n",
       "      <td>2.11</td>\n",
       "      <td>14.42</td>\n",
       "    </tr>\n",
       "    <tr>\n",
       "      <th>3</th>\n",
       "      <td>4693</td>\n",
       "      <td>Aaradhya Singh</td>\n",
       "      <td>3</td>\n",
       "      <td>Garnet</td>\n",
       "      <td>Eva World School</td>\n",
       "      <td>2</td>\n",
       "      <td>12</td>\n",
       "      <td>2.11</td>\n",
       "      <td>14.42</td>\n",
       "    </tr>\n",
       "    <tr>\n",
       "      <th>4</th>\n",
       "      <td>4696</td>\n",
       "      <td>Aarav Amit Mathur</td>\n",
       "      <td>3</td>\n",
       "      <td>Garnet</td>\n",
       "      <td>Eva World School</td>\n",
       "      <td>1</td>\n",
       "      <td>4</td>\n",
       "      <td>2.11</td>\n",
       "      <td>14.42</td>\n",
       "    </tr>\n",
       "  </tbody>\n",
       "</table>\n",
       "</div>"
      ],
      "text/plain": [
       "   user_id                    name grade   division            school  \\\n",
       "0     4682            A Isha Angel     3     Garnet  Eva World School   \n",
       "1     4685   Aadit Jignesh Limbani     1   Sapphire  Eva World School   \n",
       "2     4692  Aaradhya Harshal Sonar     4  Morgonite  Eva World School   \n",
       "3     4693          Aaradhya Singh     3     Garnet  Eva World School   \n",
       "4     4696       Aarav Amit Mathur     3     Garnet  Eva World School   \n",
       "\n",
       "   total_ex_done  total_levels_done  school_ex_avg  school_lev_avg  \n",
       "0              1                  5           2.11           14.42  \n",
       "1              4                 29           2.11           14.42  \n",
       "2              1                  5           2.11           14.42  \n",
       "3              2                 12           2.11           14.42  \n",
       "4              1                  4           2.11           14.42  "
      ]
     },
     "execution_count": 146,
     "metadata": {},
     "output_type": "execute_result"
    }
   ],
   "source": [
    "report_block1.head()"
   ]
  },
  {
   "cell_type": "code",
   "execution_count": 147,
   "id": "78539dcf",
   "metadata": {},
   "outputs": [
    {
     "data": {
      "text/plain": [
       "(1765, 9)"
      ]
     },
     "execution_count": 147,
     "metadata": {},
     "output_type": "execute_result"
    }
   ],
   "source": [
    "report_block1.shape"
   ]
  },
  {
   "cell_type": "code",
   "execution_count": 148,
   "id": "f488cc49",
   "metadata": {},
   "outputs": [],
   "source": [
    "report_block1.to_csv('support_files/report_block1.csv')"
   ]
  },
  {
   "cell_type": "markdown",
   "id": "73bae3ad",
   "metadata": {},
   "source": [
    "# BLOCK 2\n",
    "\n",
    "Exercise Name | Total Levels | Levels Completed | Concepts | Blocks Used"
   ]
  },
  {
   "cell_type": "code",
   "execution_count": 149,
   "id": "091aca94",
   "metadata": {},
   "outputs": [
    {
     "data": {
      "text/html": [
       "<div>\n",
       "<style scoped>\n",
       "    .dataframe tbody tr th:only-of-type {\n",
       "        vertical-align: middle;\n",
       "    }\n",
       "\n",
       "    .dataframe tbody tr th {\n",
       "        vertical-align: top;\n",
       "    }\n",
       "\n",
       "    .dataframe thead th {\n",
       "        text-align: right;\n",
       "    }\n",
       "</style>\n",
       "<table border=\"1\" class=\"dataframe\">\n",
       "  <thead>\n",
       "    <tr style=\"text-align: right;\">\n",
       "      <th></th>\n",
       "      <th>user_id</th>\n",
       "      <th>name</th>\n",
       "      <th>school</th>\n",
       "      <th>grade</th>\n",
       "      <th>division</th>\n",
       "      <th>exercise_id</th>\n",
       "      <th>exercise_name</th>\n",
       "      <th>level</th>\n",
       "      <th>total_levels</th>\n",
       "      <th>level_completion_status</th>\n",
       "      <th>blocks</th>\n",
       "      <th>block_count</th>\n",
       "    </tr>\n",
       "  </thead>\n",
       "  <tbody>\n",
       "    <tr>\n",
       "      <th>2</th>\n",
       "      <td>1</td>\n",
       "      <td></td>\n",
       "      <td></td>\n",
       "      <td>100</td>\n",
       "      <td>A</td>\n",
       "      <td>1</td>\n",
       "      <td>Fun with Basics</td>\n",
       "      <td>1</td>\n",
       "      <td>10</td>\n",
       "      <td>1</td>\n",
       "      <td>&lt;xml xmlns=\"https://developers.google.com/bloc...</td>\n",
       "      <td>4</td>\n",
       "    </tr>\n",
       "    <tr>\n",
       "      <th>4</th>\n",
       "      <td>1</td>\n",
       "      <td></td>\n",
       "      <td></td>\n",
       "      <td>100</td>\n",
       "      <td>A</td>\n",
       "      <td>1</td>\n",
       "      <td>Fun with Basics</td>\n",
       "      <td>2</td>\n",
       "      <td>10</td>\n",
       "      <td>1</td>\n",
       "      <td>&lt;xml xmlns=\"https://developers.google.com/bloc...</td>\n",
       "      <td>6</td>\n",
       "    </tr>\n",
       "    <tr>\n",
       "      <th>5</th>\n",
       "      <td>1</td>\n",
       "      <td></td>\n",
       "      <td></td>\n",
       "      <td>100</td>\n",
       "      <td>A</td>\n",
       "      <td>1</td>\n",
       "      <td>Fun with Basics</td>\n",
       "      <td>3</td>\n",
       "      <td>10</td>\n",
       "      <td>1</td>\n",
       "      <td>&lt;xml xmlns=\"https://developers.google.com/bloc...</td>\n",
       "      <td>9</td>\n",
       "    </tr>\n",
       "    <tr>\n",
       "      <th>110</th>\n",
       "      <td>7714</td>\n",
       "      <td>Aabha Patil</td>\n",
       "      <td>Bhiwandi School</td>\n",
       "      <td>1</td>\n",
       "      <td>Sapphire</td>\n",
       "      <td>1</td>\n",
       "      <td>Fun with Basics</td>\n",
       "      <td>1</td>\n",
       "      <td>10</td>\n",
       "      <td>1</td>\n",
       "      <td>&lt;xml xmlns=\"https://developers.google.com/bloc...</td>\n",
       "      <td>3</td>\n",
       "    </tr>\n",
       "    <tr>\n",
       "      <th>111</th>\n",
       "      <td>7714</td>\n",
       "      <td>Aabha Patil</td>\n",
       "      <td>Bhiwandi School</td>\n",
       "      <td>1</td>\n",
       "      <td>Sapphire</td>\n",
       "      <td>45</td>\n",
       "      <td>Fun with Basics</td>\n",
       "      <td>1</td>\n",
       "      <td>3</td>\n",
       "      <td>1</td>\n",
       "      <td>&lt;xml xmlns=\"https://developers.google.com/bloc...</td>\n",
       "      <td>10</td>\n",
       "    </tr>\n",
       "  </tbody>\n",
       "</table>\n",
       "</div>"
      ],
      "text/plain": [
       "     user_id         name           school grade  division  exercise_id  \\\n",
       "2          1                                 100         A            1   \n",
       "4          1                                 100         A            1   \n",
       "5          1                                 100         A            1   \n",
       "110     7714  Aabha Patil  Bhiwandi School     1  Sapphire            1   \n",
       "111     7714  Aabha Patil  Bhiwandi School     1  Sapphire           45   \n",
       "\n",
       "       exercise_name  level  total_levels  level_completion_status  \\\n",
       "2    Fun with Basics      1            10                        1   \n",
       "4    Fun with Basics      2            10                        1   \n",
       "5    Fun with Basics      3            10                        1   \n",
       "110  Fun with Basics      1            10                        1   \n",
       "111  Fun with Basics      1             3                        1   \n",
       "\n",
       "                                                blocks  block_count  \n",
       "2    <xml xmlns=\"https://developers.google.com/bloc...            4  \n",
       "4    <xml xmlns=\"https://developers.google.com/bloc...            6  \n",
       "5    <xml xmlns=\"https://developers.google.com/bloc...            9  \n",
       "110  <xml xmlns=\"https://developers.google.com/bloc...            3  \n",
       "111  <xml xmlns=\"https://developers.google.com/bloc...           10  "
      ]
     },
     "execution_count": 149,
     "metadata": {},
     "output_type": "execute_result"
    }
   ],
   "source": [
    "df_lev_completed.head()"
   ]
  },
  {
   "cell_type": "code",
   "execution_count": 150,
   "id": "480d9078",
   "metadata": {},
   "outputs": [],
   "source": [
    "report_block2 = df_lev_completed.groupby(['user_id', 'name', 'exercise_id', 'exercise_name', 'total_levels']).agg(levels_done=('level_completion_status', 'sum'), blocks_used=('block_count', 'sum')).reset_index()"
   ]
  },
  {
   "cell_type": "code",
   "execution_count": 151,
   "id": "a75bc0a5",
   "metadata": {},
   "outputs": [],
   "source": [
    "threshold = 0.3 * df_ex_completed['total_levels']\n",
    "report_block2['ex_completion_status'] = (report_block2['levels_done']>threshold).astype(int)"
   ]
  },
  {
   "cell_type": "code",
   "execution_count": 152,
   "id": "509092e7",
   "metadata": {},
   "outputs": [],
   "source": [
    "report_block2 = report_block2[~(report_block2['ex_completion_status']==0)]"
   ]
  },
  {
   "cell_type": "code",
   "execution_count": 153,
   "id": "247467db",
   "metadata": {},
   "outputs": [
    {
     "data": {
      "text/html": [
       "<div>\n",
       "<style scoped>\n",
       "    .dataframe tbody tr th:only-of-type {\n",
       "        vertical-align: middle;\n",
       "    }\n",
       "\n",
       "    .dataframe tbody tr th {\n",
       "        vertical-align: top;\n",
       "    }\n",
       "\n",
       "    .dataframe thead th {\n",
       "        text-align: right;\n",
       "    }\n",
       "</style>\n",
       "<table border=\"1\" class=\"dataframe\">\n",
       "  <thead>\n",
       "    <tr style=\"text-align: right;\">\n",
       "      <th></th>\n",
       "      <th>user_id</th>\n",
       "      <th>name</th>\n",
       "      <th>exercise_id</th>\n",
       "      <th>exercise_name</th>\n",
       "      <th>total_levels</th>\n",
       "      <th>levels_done</th>\n",
       "      <th>blocks_used</th>\n",
       "      <th>ex_completion_status</th>\n",
       "    </tr>\n",
       "  </thead>\n",
       "  <tbody>\n",
       "    <tr>\n",
       "      <th>1</th>\n",
       "      <td>4682</td>\n",
       "      <td>A Isha Angel</td>\n",
       "      <td>1</td>\n",
       "      <td>Fun with Basics</td>\n",
       "      <td>10</td>\n",
       "      <td>5</td>\n",
       "      <td>43</td>\n",
       "      <td>1</td>\n",
       "    </tr>\n",
       "    <tr>\n",
       "      <th>8</th>\n",
       "      <td>4685</td>\n",
       "      <td>Aadit Jignesh Limbani</td>\n",
       "      <td>1</td>\n",
       "      <td>Fun with Basics</td>\n",
       "      <td>10</td>\n",
       "      <td>10</td>\n",
       "      <td>127</td>\n",
       "      <td>1</td>\n",
       "    </tr>\n",
       "    <tr>\n",
       "      <th>10</th>\n",
       "      <td>4685</td>\n",
       "      <td>Aadit Jignesh Limbani</td>\n",
       "      <td>45</td>\n",
       "      <td>Fun with Basics</td>\n",
       "      <td>3</td>\n",
       "      <td>3</td>\n",
       "      <td>41</td>\n",
       "      <td>1</td>\n",
       "    </tr>\n",
       "    <tr>\n",
       "      <th>11</th>\n",
       "      <td>4685</td>\n",
       "      <td>Aadit Jignesh Limbani</td>\n",
       "      <td>49</td>\n",
       "      <td>Fun with Basics - Grade 1 &amp; 2</td>\n",
       "      <td>8</td>\n",
       "      <td>8</td>\n",
       "      <td>0</td>\n",
       "      <td>1</td>\n",
       "    </tr>\n",
       "    <tr>\n",
       "      <th>12</th>\n",
       "      <td>4685</td>\n",
       "      <td>Aadit Jignesh Limbani</td>\n",
       "      <td>50</td>\n",
       "      <td>Loopy Loops - Grade 1/2</td>\n",
       "      <td>8</td>\n",
       "      <td>8</td>\n",
       "      <td>0</td>\n",
       "      <td>1</td>\n",
       "    </tr>\n",
       "  </tbody>\n",
       "</table>\n",
       "</div>"
      ],
      "text/plain": [
       "    user_id                   name  exercise_id  \\\n",
       "1      4682           A Isha Angel            1   \n",
       "8      4685  Aadit Jignesh Limbani            1   \n",
       "10     4685  Aadit Jignesh Limbani           45   \n",
       "11     4685  Aadit Jignesh Limbani           49   \n",
       "12     4685  Aadit Jignesh Limbani           50   \n",
       "\n",
       "                    exercise_name  total_levels  levels_done  blocks_used  \\\n",
       "1                 Fun with Basics            10            5           43   \n",
       "8                 Fun with Basics            10           10          127   \n",
       "10                Fun with Basics             3            3           41   \n",
       "11  Fun with Basics - Grade 1 & 2             8            8            0   \n",
       "12        Loopy Loops - Grade 1/2             8            8            0   \n",
       "\n",
       "    ex_completion_status  \n",
       "1                      1  \n",
       "8                      1  \n",
       "10                     1  \n",
       "11                     1  \n",
       "12                     1  "
      ]
     },
     "execution_count": 153,
     "metadata": {},
     "output_type": "execute_result"
    }
   ],
   "source": [
    "report_block2.head()"
   ]
  },
  {
   "cell_type": "code",
   "execution_count": 154,
   "id": "ed924705",
   "metadata": {},
   "outputs": [
    {
     "data": {
      "text/plain": [
       "exercise_name                  total_levels\n",
       "Fun with Basics                10              1042\n",
       "Fun with Basics - Grade 1 & 2  8                707\n",
       "Loopy Loops                    12               572\n",
       "Loopy Loops - Grade 1/2        8                567\n",
       "Dog and the loops              8                371\n",
       "Swamp conditionals             4                176\n",
       "Conditional Crops              12               108\n",
       "Fun with Basics                3                102\n",
       "Baloon pop functions           8                 89\n",
       "Functions on the field         9                 54\n",
       "Loops and castles              8                 46\n",
       "Loopy Loops                    4                 40\n",
       "Predator bird functions        7                 38\n",
       "Backyard Functions             10                27\n",
       "                               6                  4\n",
       "Gardening Conditionals         6                  3\n",
       "Desert conditionals            4                  2\n",
       "dtype: int64"
      ]
     },
     "execution_count": 154,
     "metadata": {},
     "output_type": "execute_result"
    }
   ],
   "source": [
    "report_block2[['exercise_name', 'total_levels']].value_counts()"
   ]
  },
  {
   "cell_type": "markdown",
   "id": "c80398a5",
   "metadata": {},
   "source": [
    "# Block 3\n",
    "\n",
    "Concepts | Explanation"
   ]
  },
  {
   "cell_type": "code",
   "execution_count": 155,
   "id": "3862658b",
   "metadata": {},
   "outputs": [],
   "source": [
    "ex.rename(columns={'id': 'exercise_id'}, inplace=True)"
   ]
  },
  {
   "cell_type": "code",
   "execution_count": 156,
   "id": "9a575dcb",
   "metadata": {},
   "outputs": [
    {
     "data": {
      "text/html": [
       "<div>\n",
       "<style scoped>\n",
       "    .dataframe tbody tr th:only-of-type {\n",
       "        vertical-align: middle;\n",
       "    }\n",
       "\n",
       "    .dataframe tbody tr th {\n",
       "        vertical-align: top;\n",
       "    }\n",
       "\n",
       "    .dataframe thead th {\n",
       "        text-align: right;\n",
       "    }\n",
       "</style>\n",
       "<table border=\"1\" class=\"dataframe\">\n",
       "  <thead>\n",
       "    <tr style=\"text-align: right;\">\n",
       "      <th></th>\n",
       "      <th>exercise_id</th>\n",
       "      <th>name</th>\n",
       "      <th>ordern</th>\n",
       "      <th>description</th>\n",
       "      <th>image</th>\n",
       "      <th>total_levels</th>\n",
       "      <th>type</th>\n",
       "      <th>folder</th>\n",
       "      <th>video</th>\n",
       "      <th>disabled</th>\n",
       "    </tr>\n",
       "  </thead>\n",
       "  <tbody>\n",
       "    <tr>\n",
       "      <th>0</th>\n",
       "      <td>1</td>\n",
       "      <td>Fun with Basics</td>\n",
       "      <td>1</td>\n",
       "      <td>Sequence, Algorithmic Thinking</td>\n",
       "      <td>fun_with_basics.png</td>\n",
       "      <td>10</td>\n",
       "      <td>maze</td>\n",
       "      <td>fun_with_basics</td>\n",
       "      <td>FWB_LI FINAL.mp4</td>\n",
       "      <td>0</td>\n",
       "    </tr>\n",
       "    <tr>\n",
       "      <th>1</th>\n",
       "      <td>2</td>\n",
       "      <td>Loopy Loops</td>\n",
       "      <td>2</td>\n",
       "      <td>Loops, Debugging</td>\n",
       "      <td>loopy_loops.png</td>\n",
       "      <td>12</td>\n",
       "      <td>maze</td>\n",
       "      <td>loopy_loops</td>\n",
       "      <td></td>\n",
       "      <td>0</td>\n",
       "    </tr>\n",
       "    <tr>\n",
       "      <th>2</th>\n",
       "      <td>3</td>\n",
       "      <td>Conditional Crops</td>\n",
       "      <td>3</td>\n",
       "      <td>Conditional Statements, Pattern Recognition</td>\n",
       "      <td>conditional_crops.png</td>\n",
       "      <td>12</td>\n",
       "      <td>maze</td>\n",
       "      <td>conditional_crops</td>\n",
       "      <td></td>\n",
       "      <td>0</td>\n",
       "    </tr>\n",
       "    <tr>\n",
       "      <th>3</th>\n",
       "      <td>4</td>\n",
       "      <td>Backyard Functions</td>\n",
       "      <td>4</td>\n",
       "      <td>Functions, Variables, Events</td>\n",
       "      <td>backyard_functions.png</td>\n",
       "      <td>10</td>\n",
       "      <td>maze</td>\n",
       "      <td>backyard_functions</td>\n",
       "      <td></td>\n",
       "      <td>0</td>\n",
       "    </tr>\n",
       "    <tr>\n",
       "      <th>4</th>\n",
       "      <td>5</td>\n",
       "      <td>Dog and the loops</td>\n",
       "      <td>5</td>\n",
       "      <td>Loops, Variables, Functions</td>\n",
       "      <td>Dog and the loops - Grade 4.png</td>\n",
       "      <td>8</td>\n",
       "      <td>maze</td>\n",
       "      <td>dog_and_the_loops</td>\n",
       "      <td></td>\n",
       "      <td>0</td>\n",
       "    </tr>\n",
       "  </tbody>\n",
       "</table>\n",
       "</div>"
      ],
      "text/plain": [
       "   exercise_id                name  ordern  \\\n",
       "0            1     Fun with Basics       1   \n",
       "1            2         Loopy Loops       2   \n",
       "2            3   Conditional Crops       3   \n",
       "3            4  Backyard Functions       4   \n",
       "4            5   Dog and the loops       5   \n",
       "\n",
       "                                   description  \\\n",
       "0               Sequence, Algorithmic Thinking   \n",
       "1                             Loops, Debugging   \n",
       "2  Conditional Statements, Pattern Recognition   \n",
       "3                 Functions, Variables, Events   \n",
       "4                  Loops, Variables, Functions   \n",
       "\n",
       "                             image  total_levels  type              folder  \\\n",
       "0              fun_with_basics.png            10  maze     fun_with_basics   \n",
       "1                  loopy_loops.png            12  maze         loopy_loops   \n",
       "2            conditional_crops.png            12  maze   conditional_crops   \n",
       "3           backyard_functions.png            10  maze  backyard_functions   \n",
       "4  Dog and the loops - Grade 4.png             8  maze   dog_and_the_loops   \n",
       "\n",
       "              video  disabled  \n",
       "0  FWB_LI FINAL.mp4         0  \n",
       "1                           0  \n",
       "2                           0  \n",
       "3                           0  \n",
       "4                           0  "
      ]
     },
     "execution_count": 156,
     "metadata": {},
     "output_type": "execute_result"
    }
   ],
   "source": [
    "ex.head()"
   ]
  },
  {
   "cell_type": "code",
   "execution_count": 157,
   "id": "e3dafc49",
   "metadata": {},
   "outputs": [],
   "source": [
    "report_block2 = pd.merge(report_block2, ex[['description', 'exercise_id']], on='exercise_id', how='left').reset_index()"
   ]
  },
  {
   "cell_type": "code",
   "execution_count": 158,
   "id": "df661347",
   "metadata": {},
   "outputs": [
    {
     "data": {
      "text/plain": [
       "['index',\n",
       " 'user_id',\n",
       " 'name',\n",
       " 'exercise_id',\n",
       " 'exercise_name',\n",
       " 'total_levels',\n",
       " 'levels_done',\n",
       " 'blocks_used',\n",
       " 'ex_completion_status',\n",
       " 'description']"
      ]
     },
     "execution_count": 158,
     "metadata": {},
     "output_type": "execute_result"
    }
   ],
   "source": [
    "columns = report_block2.columns.tolist()\n",
    "columns"
   ]
  },
  {
   "cell_type": "code",
   "execution_count": 160,
   "id": "a3095214",
   "metadata": {},
   "outputs": [],
   "source": [
    "report_block2 = report_block2[['user_id',\n",
    " 'name',\n",
    " 'exercise_id',\n",
    " 'exercise_name',\n",
    " 'description',\n",
    " 'ex_completion_status',\n",
    " 'levels_done',\n",
    " 'total_levels',\n",
    " 'blocks_used']]"
   ]
  },
  {
   "cell_type": "code",
   "execution_count": 161,
   "id": "2f98ae18",
   "metadata": {},
   "outputs": [
    {
     "data": {
      "text/html": [
       "<div>\n",
       "<style scoped>\n",
       "    .dataframe tbody tr th:only-of-type {\n",
       "        vertical-align: middle;\n",
       "    }\n",
       "\n",
       "    .dataframe tbody tr th {\n",
       "        vertical-align: top;\n",
       "    }\n",
       "\n",
       "    .dataframe thead th {\n",
       "        text-align: right;\n",
       "    }\n",
       "</style>\n",
       "<table border=\"1\" class=\"dataframe\">\n",
       "  <thead>\n",
       "    <tr style=\"text-align: right;\">\n",
       "      <th></th>\n",
       "      <th>user_id</th>\n",
       "      <th>name</th>\n",
       "      <th>exercise_id</th>\n",
       "      <th>exercise_name</th>\n",
       "      <th>description</th>\n",
       "      <th>ex_completion_status</th>\n",
       "      <th>levels_done</th>\n",
       "      <th>total_levels</th>\n",
       "      <th>blocks_used</th>\n",
       "    </tr>\n",
       "  </thead>\n",
       "  <tbody>\n",
       "    <tr>\n",
       "      <th>0</th>\n",
       "      <td>4682</td>\n",
       "      <td>A Isha Angel</td>\n",
       "      <td>1</td>\n",
       "      <td>Fun with Basics</td>\n",
       "      <td>Sequence, Algorithmic Thinking</td>\n",
       "      <td>1</td>\n",
       "      <td>5</td>\n",
       "      <td>10</td>\n",
       "      <td>43</td>\n",
       "    </tr>\n",
       "    <tr>\n",
       "      <th>1</th>\n",
       "      <td>4685</td>\n",
       "      <td>Aadit Jignesh Limbani</td>\n",
       "      <td>1</td>\n",
       "      <td>Fun with Basics</td>\n",
       "      <td>Sequence, Algorithmic Thinking</td>\n",
       "      <td>1</td>\n",
       "      <td>10</td>\n",
       "      <td>10</td>\n",
       "      <td>127</td>\n",
       "    </tr>\n",
       "    <tr>\n",
       "      <th>2</th>\n",
       "      <td>4685</td>\n",
       "      <td>Aadit Jignesh Limbani</td>\n",
       "      <td>45</td>\n",
       "      <td>Fun with Basics</td>\n",
       "      <td>Sequence, Algorithmic Thinking</td>\n",
       "      <td>1</td>\n",
       "      <td>3</td>\n",
       "      <td>3</td>\n",
       "      <td>41</td>\n",
       "    </tr>\n",
       "    <tr>\n",
       "      <th>3</th>\n",
       "      <td>4685</td>\n",
       "      <td>Aadit Jignesh Limbani</td>\n",
       "      <td>49</td>\n",
       "      <td>Fun with Basics - Grade 1 &amp; 2</td>\n",
       "      <td>Sequence, Algorithmic Thinking</td>\n",
       "      <td>1</td>\n",
       "      <td>8</td>\n",
       "      <td>8</td>\n",
       "      <td>0</td>\n",
       "    </tr>\n",
       "    <tr>\n",
       "      <th>4</th>\n",
       "      <td>4685</td>\n",
       "      <td>Aadit Jignesh Limbani</td>\n",
       "      <td>50</td>\n",
       "      <td>Loopy Loops - Grade 1/2</td>\n",
       "      <td>Loops, Debugging</td>\n",
       "      <td>1</td>\n",
       "      <td>8</td>\n",
       "      <td>8</td>\n",
       "      <td>0</td>\n",
       "    </tr>\n",
       "  </tbody>\n",
       "</table>\n",
       "</div>"
      ],
      "text/plain": [
       "   user_id                   name  exercise_id                  exercise_name  \\\n",
       "0     4682           A Isha Angel            1                Fun with Basics   \n",
       "1     4685  Aadit Jignesh Limbani            1                Fun with Basics   \n",
       "2     4685  Aadit Jignesh Limbani           45                Fun with Basics   \n",
       "3     4685  Aadit Jignesh Limbani           49  Fun with Basics - Grade 1 & 2   \n",
       "4     4685  Aadit Jignesh Limbani           50        Loopy Loops - Grade 1/2   \n",
       "\n",
       "                      description  ex_completion_status  levels_done  \\\n",
       "0  Sequence, Algorithmic Thinking                     1            5   \n",
       "1  Sequence, Algorithmic Thinking                     1           10   \n",
       "2  Sequence, Algorithmic Thinking                     1            3   \n",
       "3  Sequence, Algorithmic Thinking                     1            8   \n",
       "4                Loops, Debugging                     1            8   \n",
       "\n",
       "   total_levels  blocks_used  \n",
       "0            10           43  \n",
       "1            10          127  \n",
       "2             3           41  \n",
       "3             8            0  \n",
       "4             8            0  "
      ]
     },
     "execution_count": 161,
     "metadata": {},
     "output_type": "execute_result"
    }
   ],
   "source": [
    "report_block2.head()"
   ]
  },
  {
   "cell_type": "code",
   "execution_count": 162,
   "id": "68a5660a",
   "metadata": {},
   "outputs": [],
   "source": [
    "report_block2.to_csv('support_files/report_block2.csv')"
   ]
  },
  {
   "cell_type": "code",
   "execution_count": null,
   "id": "6f5cd5e1",
   "metadata": {},
   "outputs": [],
   "source": []
  },
  {
   "cell_type": "markdown",
   "id": "e2a429cd",
   "metadata": {},
   "source": [
    "# BLOCK 1 down 30% students\n",
    "\n",
    "Levels Completed | School Average | Exercises Completed | School Average"
   ]
  },
  {
   "cell_type": "code",
   "execution_count": 223,
   "id": "f2534a68",
   "metadata": {},
   "outputs": [],
   "source": [
    "df_lev_not_completed = df[df['level_completion_status']==0]"
   ]
  },
  {
   "cell_type": "code",
   "execution_count": 224,
   "id": "d5a338e6",
   "metadata": {},
   "outputs": [
    {
     "data": {
      "text/plain": [
       "(10942, 12)"
      ]
     },
     "execution_count": 224,
     "metadata": {},
     "output_type": "execute_result"
    }
   ],
   "source": [
    "df_lev_not_completed.shape"
   ]
  },
  {
   "cell_type": "code",
   "execution_count": 225,
   "id": "d56b6ae3",
   "metadata": {},
   "outputs": [
    {
     "name": "stderr",
     "output_type": "stream",
     "text": [
      "/var/folders/2f/qrm1hg3945j9tqtn7tmw3vq40000gn/T/ipykernel_1209/3516208275.py:1: SettingWithCopyWarning: \n",
      "A value is trying to be set on a copy of a slice from a DataFrame.\n",
      "Try using .loc[row_indexer,col_indexer] = value instead\n",
      "\n",
      "See the caveats in the documentation: https://pandas.pydata.org/pandas-docs/stable/user_guide/indexing.html#returning-a-view-versus-a-copy\n",
      "  df_lev_not_completed['flag'] = df_lev_not_completed['user_id'].isin(df_lev_completed['user_id']).astype(int)\n"
     ]
    }
   ],
   "source": [
    "df_lev_not_completed['flag'] = df_lev_not_completed['user_id'].isin(df_lev_completed['user_id']).astype(int)"
   ]
  },
  {
   "cell_type": "code",
   "execution_count": 226,
   "id": "5617ff93",
   "metadata": {},
   "outputs": [],
   "source": [
    "report_block1_down30 = df_lev_not_completed[df_lev_not_completed['flag']==0]"
   ]
  },
  {
   "cell_type": "code",
   "execution_count": 227,
   "id": "8552959b",
   "metadata": {},
   "outputs": [
    {
     "data": {
      "text/html": [
       "<div>\n",
       "<style scoped>\n",
       "    .dataframe tbody tr th:only-of-type {\n",
       "        vertical-align: middle;\n",
       "    }\n",
       "\n",
       "    .dataframe tbody tr th {\n",
       "        vertical-align: top;\n",
       "    }\n",
       "\n",
       "    .dataframe thead th {\n",
       "        text-align: right;\n",
       "    }\n",
       "</style>\n",
       "<table border=\"1\" class=\"dataframe\">\n",
       "  <thead>\n",
       "    <tr style=\"text-align: right;\">\n",
       "      <th></th>\n",
       "      <th>user_id</th>\n",
       "      <th>name</th>\n",
       "      <th>grade</th>\n",
       "      <th>division</th>\n",
       "      <th>school</th>\n",
       "      <th>total_ex_done</th>\n",
       "      <th>total_levels_done</th>\n",
       "      <th>school_ex_avg</th>\n",
       "      <th>school_lev_avg</th>\n",
       "    </tr>\n",
       "  </thead>\n",
       "  <tbody>\n",
       "    <tr>\n",
       "      <th>0</th>\n",
       "      <td>4682</td>\n",
       "      <td>A Isha Angel</td>\n",
       "      <td>3</td>\n",
       "      <td>Garnet</td>\n",
       "      <td>Eva World School</td>\n",
       "      <td>1</td>\n",
       "      <td>5</td>\n",
       "      <td>2.11</td>\n",
       "      <td>14.42</td>\n",
       "    </tr>\n",
       "    <tr>\n",
       "      <th>1</th>\n",
       "      <td>4685</td>\n",
       "      <td>Aadit Jignesh Limbani</td>\n",
       "      <td>1</td>\n",
       "      <td>Sapphire</td>\n",
       "      <td>Eva World School</td>\n",
       "      <td>4</td>\n",
       "      <td>29</td>\n",
       "      <td>2.11</td>\n",
       "      <td>14.42</td>\n",
       "    </tr>\n",
       "    <tr>\n",
       "      <th>2</th>\n",
       "      <td>4692</td>\n",
       "      <td>Aaradhya Harshal Sonar</td>\n",
       "      <td>4</td>\n",
       "      <td>Morgonite</td>\n",
       "      <td>Eva World School</td>\n",
       "      <td>1</td>\n",
       "      <td>5</td>\n",
       "      <td>2.11</td>\n",
       "      <td>14.42</td>\n",
       "    </tr>\n",
       "    <tr>\n",
       "      <th>3</th>\n",
       "      <td>4693</td>\n",
       "      <td>Aaradhya Singh</td>\n",
       "      <td>3</td>\n",
       "      <td>Garnet</td>\n",
       "      <td>Eva World School</td>\n",
       "      <td>2</td>\n",
       "      <td>12</td>\n",
       "      <td>2.11</td>\n",
       "      <td>14.42</td>\n",
       "    </tr>\n",
       "    <tr>\n",
       "      <th>4</th>\n",
       "      <td>4696</td>\n",
       "      <td>Aarav Amit Mathur</td>\n",
       "      <td>3</td>\n",
       "      <td>Garnet</td>\n",
       "      <td>Eva World School</td>\n",
       "      <td>1</td>\n",
       "      <td>4</td>\n",
       "      <td>2.11</td>\n",
       "      <td>14.42</td>\n",
       "    </tr>\n",
       "  </tbody>\n",
       "</table>\n",
       "</div>"
      ],
      "text/plain": [
       "   user_id                    name grade   division            school  \\\n",
       "0     4682            A Isha Angel     3     Garnet  Eva World School   \n",
       "1     4685   Aadit Jignesh Limbani     1   Sapphire  Eva World School   \n",
       "2     4692  Aaradhya Harshal Sonar     4  Morgonite  Eva World School   \n",
       "3     4693          Aaradhya Singh     3     Garnet  Eva World School   \n",
       "4     4696       Aarav Amit Mathur     3     Garnet  Eva World School   \n",
       "\n",
       "   total_ex_done  total_levels_done  school_ex_avg  school_lev_avg  \n",
       "0              1                  5           2.11           14.42  \n",
       "1              4                 29           2.11           14.42  \n",
       "2              1                  5           2.11           14.42  \n",
       "3              2                 12           2.11           14.42  \n",
       "4              1                  4           2.11           14.42  "
      ]
     },
     "execution_count": 227,
     "metadata": {},
     "output_type": "execute_result"
    }
   ],
   "source": [
    "report_block1.head()"
   ]
  },
  {
   "cell_type": "code",
   "execution_count": 228,
   "id": "446bc2a2",
   "metadata": {},
   "outputs": [
    {
     "data": {
      "text/html": [
       "<div>\n",
       "<style scoped>\n",
       "    .dataframe tbody tr th:only-of-type {\n",
       "        vertical-align: middle;\n",
       "    }\n",
       "\n",
       "    .dataframe tbody tr th {\n",
       "        vertical-align: top;\n",
       "    }\n",
       "\n",
       "    .dataframe thead th {\n",
       "        text-align: right;\n",
       "    }\n",
       "</style>\n",
       "<table border=\"1\" class=\"dataframe\">\n",
       "  <thead>\n",
       "    <tr style=\"text-align: right;\">\n",
       "      <th></th>\n",
       "      <th>user_id</th>\n",
       "      <th>name</th>\n",
       "      <th>school</th>\n",
       "      <th>grade</th>\n",
       "      <th>division</th>\n",
       "      <th>exercise_id</th>\n",
       "      <th>exercise_name</th>\n",
       "      <th>level</th>\n",
       "      <th>total_levels</th>\n",
       "      <th>level_completion_status</th>\n",
       "      <th>blocks</th>\n",
       "      <th>block_count</th>\n",
       "      <th>flag</th>\n",
       "    </tr>\n",
       "  </thead>\n",
       "  <tbody>\n",
       "    <tr>\n",
       "      <th>3059</th>\n",
       "      <td>6055</td>\n",
       "      <td>Anaika Kaur Sawhney</td>\n",
       "      <td>DWPS</td>\n",
       "      <td>2</td>\n",
       "      <td>Opal</td>\n",
       "      <td>49</td>\n",
       "      <td>Fun with Basics - Grade 1 &amp; 2</td>\n",
       "      <td>1</td>\n",
       "      <td>8</td>\n",
       "      <td>0</td>\n",
       "      <td></td>\n",
       "      <td>0</td>\n",
       "      <td>0</td>\n",
       "    </tr>\n",
       "    <tr>\n",
       "      <th>5790</th>\n",
       "      <td>7688</td>\n",
       "      <td>Ankush Swapan Samanta</td>\n",
       "      <td>DWPS</td>\n",
       "      <td>5</td>\n",
       "      <td>ADAMITE</td>\n",
       "      <td>3</td>\n",
       "      <td>Conditional Crops</td>\n",
       "      <td>1</td>\n",
       "      <td>12</td>\n",
       "      <td>0</td>\n",
       "      <td>&lt;xml xmlns=\"https://developers.google.com/bloc...</td>\n",
       "      <td>24</td>\n",
       "      <td>0</td>\n",
       "    </tr>\n",
       "    <tr>\n",
       "      <th>5791</th>\n",
       "      <td>7688</td>\n",
       "      <td>Ankush Swapan Samanta</td>\n",
       "      <td>DWPS</td>\n",
       "      <td>5</td>\n",
       "      <td>ADAMITE</td>\n",
       "      <td>5</td>\n",
       "      <td>Dog and the loops</td>\n",
       "      <td>1</td>\n",
       "      <td>8</td>\n",
       "      <td>0</td>\n",
       "      <td>&lt;xml xmlns=\"https://developers.google.com/bloc...</td>\n",
       "      <td>6</td>\n",
       "      <td>0</td>\n",
       "    </tr>\n",
       "    <tr>\n",
       "      <th>5792</th>\n",
       "      <td>7688</td>\n",
       "      <td>Ankush Swapan Samanta</td>\n",
       "      <td>DWPS</td>\n",
       "      <td>5</td>\n",
       "      <td>ADAMITE</td>\n",
       "      <td>13</td>\n",
       "      <td>Introduction to Gaming - Grade 5</td>\n",
       "      <td>1</td>\n",
       "      <td>3</td>\n",
       "      <td>0</td>\n",
       "      <td>&lt;xml xmlns=\"https://developers.google.com/bloc...</td>\n",
       "      <td>2</td>\n",
       "      <td>0</td>\n",
       "    </tr>\n",
       "    <tr>\n",
       "      <th>8046</th>\n",
       "      <td>6040</td>\n",
       "      <td>Adee Zoheb Patankar</td>\n",
       "      <td>DWPS</td>\n",
       "      <td>7</td>\n",
       "      <td>Amethyst</td>\n",
       "      <td>10</td>\n",
       "      <td>Desert conditionals</td>\n",
       "      <td>1</td>\n",
       "      <td>4</td>\n",
       "      <td>0</td>\n",
       "      <td>&lt;xml xmlns=\"https://developers.google.com/bloc...</td>\n",
       "      <td>5</td>\n",
       "      <td>0</td>\n",
       "    </tr>\n",
       "  </tbody>\n",
       "</table>\n",
       "</div>"
      ],
      "text/plain": [
       "      user_id                   name school grade  division  exercise_id  \\\n",
       "3059     6055    Anaika Kaur Sawhney   DWPS     2      Opal           49   \n",
       "5790     7688  Ankush Swapan Samanta   DWPS     5   ADAMITE            3   \n",
       "5791     7688  Ankush Swapan Samanta   DWPS     5   ADAMITE            5   \n",
       "5792     7688  Ankush Swapan Samanta   DWPS     5   ADAMITE           13   \n",
       "8046     6040    Adee Zoheb Patankar   DWPS     7  Amethyst           10   \n",
       "\n",
       "                         exercise_name  level  total_levels  \\\n",
       "3059     Fun with Basics - Grade 1 & 2      1             8   \n",
       "5790                 Conditional Crops      1            12   \n",
       "5791                 Dog and the loops      1             8   \n",
       "5792  Introduction to Gaming - Grade 5      1             3   \n",
       "8046               Desert conditionals      1             4   \n",
       "\n",
       "      level_completion_status  \\\n",
       "3059                        0   \n",
       "5790                        0   \n",
       "5791                        0   \n",
       "5792                        0   \n",
       "8046                        0   \n",
       "\n",
       "                                                 blocks  block_count  flag  \n",
       "3059                                                               0     0  \n",
       "5790  <xml xmlns=\"https://developers.google.com/bloc...           24     0  \n",
       "5791  <xml xmlns=\"https://developers.google.com/bloc...            6     0  \n",
       "5792  <xml xmlns=\"https://developers.google.com/bloc...            2     0  \n",
       "8046  <xml xmlns=\"https://developers.google.com/bloc...            5     0  "
      ]
     },
     "execution_count": 228,
     "metadata": {},
     "output_type": "execute_result"
    }
   ],
   "source": [
    "report_block1_down30.head()"
   ]
  },
  {
   "cell_type": "code",
   "execution_count": 229,
   "id": "b02733ce",
   "metadata": {},
   "outputs": [
    {
     "name": "stderr",
     "output_type": "stream",
     "text": [
      "/var/folders/2f/qrm1hg3945j9tqtn7tmw3vq40000gn/T/ipykernel_1209/224180183.py:1: SettingWithCopyWarning: \n",
      "A value is trying to be set on a copy of a slice from a DataFrame\n",
      "\n",
      "See the caveats in the documentation: https://pandas.pydata.org/pandas-docs/stable/user_guide/indexing.html#returning-a-view-versus-a-copy\n",
      "  report_block1_down30.drop(['exercise_id', 'exercise_name', 'level', 'total_levels', 'blocks', 'block_count', 'flag'], axis=1, inplace=True)\n"
     ]
    }
   ],
   "source": [
    "report_block1_down30.drop(['exercise_id', 'exercise_name', 'level', 'total_levels', 'blocks', 'block_count', 'flag'], axis=1, inplace=True)"
   ]
  },
  {
   "cell_type": "code",
   "execution_count": 230,
   "id": "7cd2c495",
   "metadata": {},
   "outputs": [
    {
     "name": "stderr",
     "output_type": "stream",
     "text": [
      "/var/folders/2f/qrm1hg3945j9tqtn7tmw3vq40000gn/T/ipykernel_1209/3615563633.py:4: SettingWithCopyWarning: \n",
      "A value is trying to be set on a copy of a slice from a DataFrame.\n",
      "Try using .loc[row_indexer,col_indexer] = value instead\n",
      "\n",
      "See the caveats in the documentation: https://pandas.pydata.org/pandas-docs/stable/user_guide/indexing.html#returning-a-view-versus-a-copy\n",
      "  report_block1_down30[column] = 0\n",
      "/var/folders/2f/qrm1hg3945j9tqtn7tmw3vq40000gn/T/ipykernel_1209/3615563633.py:4: SettingWithCopyWarning: \n",
      "A value is trying to be set on a copy of a slice from a DataFrame.\n",
      "Try using .loc[row_indexer,col_indexer] = value instead\n",
      "\n",
      "See the caveats in the documentation: https://pandas.pydata.org/pandas-docs/stable/user_guide/indexing.html#returning-a-view-versus-a-copy\n",
      "  report_block1_down30[column] = 0\n"
     ]
    }
   ],
   "source": [
    "additional_columns = ['total_ex_done', 'total_levels_done']\n",
    "\n",
    "for column in additional_columns:\n",
    "    report_block1_down30[column] = 0"
   ]
  },
  {
   "cell_type": "code",
   "execution_count": 231,
   "id": "16d2c838",
   "metadata": {},
   "outputs": [],
   "source": [
    "report_block1_down30 = report_block1_down30[['user_id', 'name', 'grade', 'division', 'school','total_ex_done','total_levels_done']]"
   ]
  },
  {
   "cell_type": "code",
   "execution_count": 232,
   "id": "6735bc43",
   "metadata": {},
   "outputs": [],
   "source": [
    "report_block1_down30['school_ex_avg'] = report_block1_down30['school'].map(average_ex_dict)\n",
    "report_block1_down30['school_lev_avg'] = report_block1_down30['school'].map(average_lev_dict)\n"
   ]
  },
  {
   "cell_type": "code",
   "execution_count": 234,
   "id": "55b1273a",
   "metadata": {},
   "outputs": [],
   "source": [
    "report_block1_down30.to_csv('./support_files/report_block1_down30.csv')"
   ]
  },
  {
   "cell_type": "code",
   "execution_count": null,
   "id": "61841026",
   "metadata": {},
   "outputs": [],
   "source": [
    "exit()"
   ]
  },
  {
   "cell_type": "markdown",
   "id": "f5dd294e",
   "metadata": {},
   "source": [
    "# BLOCK 2 down 30% report"
   ]
  },
  {
   "cell_type": "code",
   "execution_count": 235,
   "id": "836ee84c",
   "metadata": {},
   "outputs": [],
   "source": [
    "report_block2_down30 = report_block1_down30.groupby(['user_id', 'name']).agg(user_id_count = ('user_id', 'nunique')).reset_index()"
   ]
  },
  {
   "cell_type": "code",
   "execution_count": 236,
   "id": "8e3ec127",
   "metadata": {},
   "outputs": [],
   "source": [
    "report_block2_down30.drop('user_id_count', axis=1, inplace=True)"
   ]
  },
  {
   "cell_type": "code",
   "execution_count": 237,
   "id": "b40ec4fc",
   "metadata": {},
   "outputs": [],
   "source": [
    "addtional_report_block2_down30_1 = ['exercise_id', 'exercise_name', 'description']\n",
    "\n",
    "for column in addtional_report_block2_down30_1:\n",
    "    report_block2_down30[column] = 'None'\n",
    "\n",
    "addtional_report_block2_down30_2 = ['ex_completion_status', 'levels_done', 'total_levels', 'blocks_used']\n",
    "for column in addtional_report_block2_down30_2:\n",
    "    report_block2_down30[column] = 0"
   ]
  },
  {
   "cell_type": "code",
   "execution_count": 238,
   "id": "e2186057",
   "metadata": {},
   "outputs": [
    {
     "data": {
      "text/html": [
       "<div>\n",
       "<style scoped>\n",
       "    .dataframe tbody tr th:only-of-type {\n",
       "        vertical-align: middle;\n",
       "    }\n",
       "\n",
       "    .dataframe tbody tr th {\n",
       "        vertical-align: top;\n",
       "    }\n",
       "\n",
       "    .dataframe thead th {\n",
       "        text-align: right;\n",
       "    }\n",
       "</style>\n",
       "<table border=\"1\" class=\"dataframe\">\n",
       "  <thead>\n",
       "    <tr style=\"text-align: right;\">\n",
       "      <th></th>\n",
       "      <th>user_id</th>\n",
       "      <th>name</th>\n",
       "      <th>exercise_id</th>\n",
       "      <th>exercise_name</th>\n",
       "      <th>description</th>\n",
       "      <th>ex_completion_status</th>\n",
       "      <th>levels_done</th>\n",
       "      <th>total_levels</th>\n",
       "      <th>blocks_used</th>\n",
       "    </tr>\n",
       "  </thead>\n",
       "  <tbody>\n",
       "    <tr>\n",
       "      <th>0</th>\n",
       "      <td>4695</td>\n",
       "      <td>Aaradhya Vijay Kamble</td>\n",
       "      <td>None</td>\n",
       "      <td>None</td>\n",
       "      <td>None</td>\n",
       "      <td>0</td>\n",
       "      <td>0</td>\n",
       "      <td>0</td>\n",
       "      <td>0</td>\n",
       "    </tr>\n",
       "    <tr>\n",
       "      <th>1</th>\n",
       "      <td>4759</td>\n",
       "      <td>Darsh Sharma</td>\n",
       "      <td>None</td>\n",
       "      <td>None</td>\n",
       "      <td>None</td>\n",
       "      <td>0</td>\n",
       "      <td>0</td>\n",
       "      <td>0</td>\n",
       "      <td>0</td>\n",
       "    </tr>\n",
       "    <tr>\n",
       "      <th>2</th>\n",
       "      <td>4765</td>\n",
       "      <td>Dhruv Atul Bangal</td>\n",
       "      <td>None</td>\n",
       "      <td>None</td>\n",
       "      <td>None</td>\n",
       "      <td>0</td>\n",
       "      <td>0</td>\n",
       "      <td>0</td>\n",
       "      <td>0</td>\n",
       "    </tr>\n",
       "    <tr>\n",
       "      <th>3</th>\n",
       "      <td>4807</td>\n",
       "      <td>Kruti Chaman Pandey</td>\n",
       "      <td>None</td>\n",
       "      <td>None</td>\n",
       "      <td>None</td>\n",
       "      <td>0</td>\n",
       "      <td>0</td>\n",
       "      <td>0</td>\n",
       "      <td>0</td>\n",
       "    </tr>\n",
       "    <tr>\n",
       "      <th>4</th>\n",
       "      <td>4839</td>\n",
       "      <td>Nidhi Pravin More</td>\n",
       "      <td>None</td>\n",
       "      <td>None</td>\n",
       "      <td>None</td>\n",
       "      <td>0</td>\n",
       "      <td>0</td>\n",
       "      <td>0</td>\n",
       "      <td>0</td>\n",
       "    </tr>\n",
       "  </tbody>\n",
       "</table>\n",
       "</div>"
      ],
      "text/plain": [
       "   user_id                   name exercise_id exercise_name description  \\\n",
       "0     4695  Aaradhya Vijay Kamble        None          None        None   \n",
       "1     4759           Darsh Sharma        None          None        None   \n",
       "2     4765      Dhruv Atul Bangal        None          None        None   \n",
       "3     4807    Kruti Chaman Pandey        None          None        None   \n",
       "4     4839      Nidhi Pravin More        None          None        None   \n",
       "\n",
       "   ex_completion_status  levels_done  total_levels  blocks_used  \n",
       "0                     0            0             0            0  \n",
       "1                     0            0             0            0  \n",
       "2                     0            0             0            0  \n",
       "3                     0            0             0            0  \n",
       "4                     0            0             0            0  "
      ]
     },
     "execution_count": 238,
     "metadata": {},
     "output_type": "execute_result"
    }
   ],
   "source": [
    "report_block2_down30.head()"
   ]
  },
  {
   "cell_type": "code",
   "execution_count": 239,
   "id": "0ae2853e",
   "metadata": {},
   "outputs": [],
   "source": [
    "report_block2_down30.to_csv('./support_files/report_block2_down30.csv')"
   ]
  },
  {
   "cell_type": "markdown",
   "id": "4637f4ec",
   "metadata": {},
   "source": [
    "# No Exercise Done Report"
   ]
  },
  {
   "cell_type": "code",
   "execution_count": 242,
   "id": "d062bf9b",
   "metadata": {},
   "outputs": [],
   "source": [
    "df_na = pd.read_json('support_files/student_report_itk_na.json')"
   ]
  },
  {
   "cell_type": "code",
   "execution_count": 243,
   "id": "2d132ccf",
   "metadata": {},
   "outputs": [],
   "source": [
    "df_na = df_na[~(df_na['grade']=='')]"
   ]
  },
  {
   "cell_type": "code",
   "execution_count": 244,
   "id": "77552c5f",
   "metadata": {},
   "outputs": [],
   "source": [
    "df_na['name'] = df_na['name'].apply(proper_case)"
   ]
  },
  {
   "cell_type": "code",
   "execution_count": 245,
   "id": "3f2de788",
   "metadata": {},
   "outputs": [
    {
     "data": {
      "text/html": [
       "<div>\n",
       "<style scoped>\n",
       "    .dataframe tbody tr th:only-of-type {\n",
       "        vertical-align: middle;\n",
       "    }\n",
       "\n",
       "    .dataframe tbody tr th {\n",
       "        vertical-align: top;\n",
       "    }\n",
       "\n",
       "    .dataframe thead th {\n",
       "        text-align: right;\n",
       "    }\n",
       "</style>\n",
       "<table border=\"1\" class=\"dataframe\">\n",
       "  <thead>\n",
       "    <tr style=\"text-align: right;\">\n",
       "      <th></th>\n",
       "      <th>user_id</th>\n",
       "      <th>name</th>\n",
       "      <th>school</th>\n",
       "      <th>grade</th>\n",
       "      <th>division</th>\n",
       "    </tr>\n",
       "  </thead>\n",
       "  <tbody>\n",
       "    <tr>\n",
       "      <th>3</th>\n",
       "      <td>7742</td>\n",
       "      <td>Reyansh Ojha</td>\n",
       "      <td>Bhiwandi School</td>\n",
       "      <td>2</td>\n",
       "      <td>Zircon</td>\n",
       "    </tr>\n",
       "    <tr>\n",
       "      <th>4</th>\n",
       "      <td>8004</td>\n",
       "      <td>Adi Hariya</td>\n",
       "      <td>Bhiwandi School</td>\n",
       "      <td>6</td>\n",
       "      <td>Turquoise</td>\n",
       "    </tr>\n",
       "    <tr>\n",
       "      <th>5</th>\n",
       "      <td>8003</td>\n",
       "      <td>Ayush Choudhary</td>\n",
       "      <td>Bhiwandi School</td>\n",
       "      <td>7</td>\n",
       "      <td>Amethyst</td>\n",
       "    </tr>\n",
       "    <tr>\n",
       "      <th>6</th>\n",
       "      <td>6138</td>\n",
       "      <td>Kshitij Ravi Divakar</td>\n",
       "      <td>DWPS</td>\n",
       "      <td>1</td>\n",
       "      <td>Sapphire</td>\n",
       "    </tr>\n",
       "    <tr>\n",
       "      <th>7</th>\n",
       "      <td>6178</td>\n",
       "      <td>Navika Naveen Poojary</td>\n",
       "      <td>DWPS</td>\n",
       "      <td>1</td>\n",
       "      <td>Sapphire</td>\n",
       "    </tr>\n",
       "  </tbody>\n",
       "</table>\n",
       "</div>"
      ],
      "text/plain": [
       "   user_id                   name           school grade   division\n",
       "3     7742           Reyansh Ojha  Bhiwandi School     2     Zircon\n",
       "4     8004             Adi Hariya  Bhiwandi School     6  Turquoise\n",
       "5     8003        Ayush Choudhary  Bhiwandi School     7   Amethyst\n",
       "6     6138   Kshitij Ravi Divakar             DWPS     1   Sapphire\n",
       "7     6178  Navika Naveen Poojary             DWPS     1   Sapphire"
      ]
     },
     "execution_count": 245,
     "metadata": {},
     "output_type": "execute_result"
    }
   ],
   "source": [
    "df_na.head()"
   ]
  },
  {
   "cell_type": "code",
   "execution_count": 261,
   "id": "34b33310",
   "metadata": {},
   "outputs": [],
   "source": [
    "report_block1_na = df_na"
   ]
  },
  {
   "cell_type": "code",
   "execution_count": 262,
   "id": "81ca34d1",
   "metadata": {},
   "outputs": [],
   "source": [
    "additional_columns = ['total_ex_done', 'total_levels_done']\n",
    "\n",
    "for column in additional_columns:\n",
    "    report_block1_na[column] = 0"
   ]
  },
  {
   "cell_type": "code",
   "execution_count": 263,
   "id": "548b3851",
   "metadata": {},
   "outputs": [],
   "source": [
    "report_block1_na = report_block1_na[['user_id', 'name', 'grade', 'division', 'school', 'total_ex_done',\n",
    "       'total_levels_done']]"
   ]
  },
  {
   "cell_type": "code",
   "execution_count": 264,
   "id": "3cd1e5df",
   "metadata": {},
   "outputs": [
    {
     "name": "stderr",
     "output_type": "stream",
     "text": [
      "/var/folders/2f/qrm1hg3945j9tqtn7tmw3vq40000gn/T/ipykernel_1209/3270452955.py:1: SettingWithCopyWarning: \n",
      "A value is trying to be set on a copy of a slice from a DataFrame.\n",
      "Try using .loc[row_indexer,col_indexer] = value instead\n",
      "\n",
      "See the caveats in the documentation: https://pandas.pydata.org/pandas-docs/stable/user_guide/indexing.html#returning-a-view-versus-a-copy\n",
      "  report_block1_na['school_ex_avg'] = report_block1_na['school'].map(average_ex_dict)\n"
     ]
    }
   ],
   "source": [
    "report_block1_na['school_ex_avg'] = report_block1_na['school'].map(average_ex_dict)"
   ]
  },
  {
   "cell_type": "code",
   "execution_count": 265,
   "id": "887b250d",
   "metadata": {},
   "outputs": [],
   "source": [
    "report_block1_na['school_lev_avg'] = report_block1_na['school'].map(average_lev_dict)"
   ]
  },
  {
   "cell_type": "code",
   "execution_count": 266,
   "id": "cdefd75a",
   "metadata": {},
   "outputs": [
    {
     "data": {
      "text/html": [
       "<div>\n",
       "<style scoped>\n",
       "    .dataframe tbody tr th:only-of-type {\n",
       "        vertical-align: middle;\n",
       "    }\n",
       "\n",
       "    .dataframe tbody tr th {\n",
       "        vertical-align: top;\n",
       "    }\n",
       "\n",
       "    .dataframe thead th {\n",
       "        text-align: right;\n",
       "    }\n",
       "</style>\n",
       "<table border=\"1\" class=\"dataframe\">\n",
       "  <thead>\n",
       "    <tr style=\"text-align: right;\">\n",
       "      <th></th>\n",
       "      <th>user_id</th>\n",
       "      <th>name</th>\n",
       "      <th>grade</th>\n",
       "      <th>division</th>\n",
       "      <th>school</th>\n",
       "      <th>total_ex_done</th>\n",
       "      <th>total_levels_done</th>\n",
       "      <th>school_ex_avg</th>\n",
       "      <th>school_lev_avg</th>\n",
       "    </tr>\n",
       "  </thead>\n",
       "  <tbody>\n",
       "    <tr>\n",
       "      <th>3</th>\n",
       "      <td>7742</td>\n",
       "      <td>Reyansh Ojha</td>\n",
       "      <td>2</td>\n",
       "      <td>Zircon</td>\n",
       "      <td>Bhiwandi School</td>\n",
       "      <td>0</td>\n",
       "      <td>0</td>\n",
       "      <td>2.59</td>\n",
       "      <td>17.77</td>\n",
       "    </tr>\n",
       "    <tr>\n",
       "      <th>4</th>\n",
       "      <td>8004</td>\n",
       "      <td>Adi Hariya</td>\n",
       "      <td>6</td>\n",
       "      <td>Turquoise</td>\n",
       "      <td>Bhiwandi School</td>\n",
       "      <td>0</td>\n",
       "      <td>0</td>\n",
       "      <td>2.59</td>\n",
       "      <td>17.77</td>\n",
       "    </tr>\n",
       "    <tr>\n",
       "      <th>5</th>\n",
       "      <td>8003</td>\n",
       "      <td>Ayush Choudhary</td>\n",
       "      <td>7</td>\n",
       "      <td>Amethyst</td>\n",
       "      <td>Bhiwandi School</td>\n",
       "      <td>0</td>\n",
       "      <td>0</td>\n",
       "      <td>2.59</td>\n",
       "      <td>17.77</td>\n",
       "    </tr>\n",
       "    <tr>\n",
       "      <th>6</th>\n",
       "      <td>6138</td>\n",
       "      <td>Kshitij Ravi Divakar</td>\n",
       "      <td>1</td>\n",
       "      <td>Sapphire</td>\n",
       "      <td>DWPS</td>\n",
       "      <td>0</td>\n",
       "      <td>0</td>\n",
       "      <td>2.13</td>\n",
       "      <td>16.14</td>\n",
       "    </tr>\n",
       "    <tr>\n",
       "      <th>7</th>\n",
       "      <td>6178</td>\n",
       "      <td>Navika Naveen Poojary</td>\n",
       "      <td>1</td>\n",
       "      <td>Sapphire</td>\n",
       "      <td>DWPS</td>\n",
       "      <td>0</td>\n",
       "      <td>0</td>\n",
       "      <td>2.13</td>\n",
       "      <td>16.14</td>\n",
       "    </tr>\n",
       "  </tbody>\n",
       "</table>\n",
       "</div>"
      ],
      "text/plain": [
       "   user_id                   name grade   division           school  \\\n",
       "3     7742           Reyansh Ojha     2     Zircon  Bhiwandi School   \n",
       "4     8004             Adi Hariya     6  Turquoise  Bhiwandi School   \n",
       "5     8003        Ayush Choudhary     7   Amethyst  Bhiwandi School   \n",
       "6     6138   Kshitij Ravi Divakar     1   Sapphire             DWPS   \n",
       "7     6178  Navika Naveen Poojary     1   Sapphire             DWPS   \n",
       "\n",
       "   total_ex_done  total_levels_done  school_ex_avg  school_lev_avg  \n",
       "3              0                  0           2.59           17.77  \n",
       "4              0                  0           2.59           17.77  \n",
       "5              0                  0           2.59           17.77  \n",
       "6              0                  0           2.13           16.14  \n",
       "7              0                  0           2.13           16.14  "
      ]
     },
     "execution_count": 266,
     "metadata": {},
     "output_type": "execute_result"
    }
   ],
   "source": [
    "report_block1_na.head()"
   ]
  },
  {
   "cell_type": "code",
   "execution_count": 268,
   "id": "d2b0188d",
   "metadata": {},
   "outputs": [],
   "source": [
    "report_block1_na.to_csv('support_files/report_block1_na.csv')"
   ]
  },
  {
   "cell_type": "code",
   "execution_count": 275,
   "id": "01dd369f",
   "metadata": {},
   "outputs": [],
   "source": [
    "report_block2_na = df_na[['user_id', 'name']]"
   ]
  },
  {
   "cell_type": "code",
   "execution_count": 276,
   "id": "468b42d3",
   "metadata": {},
   "outputs": [
    {
     "data": {
      "text/html": [
       "<div>\n",
       "<style scoped>\n",
       "    .dataframe tbody tr th:only-of-type {\n",
       "        vertical-align: middle;\n",
       "    }\n",
       "\n",
       "    .dataframe tbody tr th {\n",
       "        vertical-align: top;\n",
       "    }\n",
       "\n",
       "    .dataframe thead th {\n",
       "        text-align: right;\n",
       "    }\n",
       "</style>\n",
       "<table border=\"1\" class=\"dataframe\">\n",
       "  <thead>\n",
       "    <tr style=\"text-align: right;\">\n",
       "      <th></th>\n",
       "      <th>user_id</th>\n",
       "      <th>name</th>\n",
       "    </tr>\n",
       "  </thead>\n",
       "  <tbody>\n",
       "    <tr>\n",
       "      <th>3</th>\n",
       "      <td>7742</td>\n",
       "      <td>Reyansh Ojha</td>\n",
       "    </tr>\n",
       "    <tr>\n",
       "      <th>4</th>\n",
       "      <td>8004</td>\n",
       "      <td>Adi Hariya</td>\n",
       "    </tr>\n",
       "    <tr>\n",
       "      <th>5</th>\n",
       "      <td>8003</td>\n",
       "      <td>Ayush Choudhary</td>\n",
       "    </tr>\n",
       "    <tr>\n",
       "      <th>6</th>\n",
       "      <td>6138</td>\n",
       "      <td>Kshitij Ravi Divakar</td>\n",
       "    </tr>\n",
       "    <tr>\n",
       "      <th>7</th>\n",
       "      <td>6178</td>\n",
       "      <td>Navika Naveen Poojary</td>\n",
       "    </tr>\n",
       "  </tbody>\n",
       "</table>\n",
       "</div>"
      ],
      "text/plain": [
       "   user_id                   name\n",
       "3     7742           Reyansh Ojha\n",
       "4     8004             Adi Hariya\n",
       "5     8003        Ayush Choudhary\n",
       "6     6138   Kshitij Ravi Divakar\n",
       "7     6178  Navika Naveen Poojary"
      ]
     },
     "execution_count": 276,
     "metadata": {},
     "output_type": "execute_result"
    }
   ],
   "source": [
    "report_block2_na.head()"
   ]
  },
  {
   "cell_type": "code",
   "execution_count": 277,
   "id": "ccfbc674",
   "metadata": {},
   "outputs": [
    {
     "name": "stderr",
     "output_type": "stream",
     "text": [
      "/var/folders/2f/qrm1hg3945j9tqtn7tmw3vq40000gn/T/ipykernel_1209/2739211612.py:4: SettingWithCopyWarning: \n",
      "A value is trying to be set on a copy of a slice from a DataFrame.\n",
      "Try using .loc[row_indexer,col_indexer] = value instead\n",
      "\n",
      "See the caveats in the documentation: https://pandas.pydata.org/pandas-docs/stable/user_guide/indexing.html#returning-a-view-versus-a-copy\n",
      "  report_block2_na[column] = 'None'\n",
      "/var/folders/2f/qrm1hg3945j9tqtn7tmw3vq40000gn/T/ipykernel_1209/2739211612.py:4: SettingWithCopyWarning: \n",
      "A value is trying to be set on a copy of a slice from a DataFrame.\n",
      "Try using .loc[row_indexer,col_indexer] = value instead\n",
      "\n",
      "See the caveats in the documentation: https://pandas.pydata.org/pandas-docs/stable/user_guide/indexing.html#returning-a-view-versus-a-copy\n",
      "  report_block2_na[column] = 'None'\n",
      "/var/folders/2f/qrm1hg3945j9tqtn7tmw3vq40000gn/T/ipykernel_1209/2739211612.py:4: SettingWithCopyWarning: \n",
      "A value is trying to be set on a copy of a slice from a DataFrame.\n",
      "Try using .loc[row_indexer,col_indexer] = value instead\n",
      "\n",
      "See the caveats in the documentation: https://pandas.pydata.org/pandas-docs/stable/user_guide/indexing.html#returning-a-view-versus-a-copy\n",
      "  report_block2_na[column] = 'None'\n",
      "/var/folders/2f/qrm1hg3945j9tqtn7tmw3vq40000gn/T/ipykernel_1209/2739211612.py:8: SettingWithCopyWarning: \n",
      "A value is trying to be set on a copy of a slice from a DataFrame.\n",
      "Try using .loc[row_indexer,col_indexer] = value instead\n",
      "\n",
      "See the caveats in the documentation: https://pandas.pydata.org/pandas-docs/stable/user_guide/indexing.html#returning-a-view-versus-a-copy\n",
      "  report_block2_na[column] = 0\n",
      "/var/folders/2f/qrm1hg3945j9tqtn7tmw3vq40000gn/T/ipykernel_1209/2739211612.py:8: SettingWithCopyWarning: \n",
      "A value is trying to be set on a copy of a slice from a DataFrame.\n",
      "Try using .loc[row_indexer,col_indexer] = value instead\n",
      "\n",
      "See the caveats in the documentation: https://pandas.pydata.org/pandas-docs/stable/user_guide/indexing.html#returning-a-view-versus-a-copy\n",
      "  report_block2_na[column] = 0\n",
      "/var/folders/2f/qrm1hg3945j9tqtn7tmw3vq40000gn/T/ipykernel_1209/2739211612.py:8: SettingWithCopyWarning: \n",
      "A value is trying to be set on a copy of a slice from a DataFrame.\n",
      "Try using .loc[row_indexer,col_indexer] = value instead\n",
      "\n",
      "See the caveats in the documentation: https://pandas.pydata.org/pandas-docs/stable/user_guide/indexing.html#returning-a-view-versus-a-copy\n",
      "  report_block2_na[column] = 0\n"
     ]
    }
   ],
   "source": [
    "addtional_columns_block2_1 = ['exercise_id', 'exercise_name', 'description']\n",
    "\n",
    "for column in addtional_columns_block2_1:\n",
    "    report_block2_na[column] = 'None'\n",
    "\n",
    "addtional_columns_block2_2 = ['ex_completion_status', 'levels_done', 'total_levels', 'blocks_used']\n",
    "for column in addtional_columns_block2_2:\n",
    "    report_block2_na[column] = 0"
   ]
  },
  {
   "cell_type": "code",
   "execution_count": 281,
   "id": "afa385f0",
   "metadata": {},
   "outputs": [
    {
     "data": {
      "text/html": [
       "<div>\n",
       "<style scoped>\n",
       "    .dataframe tbody tr th:only-of-type {\n",
       "        vertical-align: middle;\n",
       "    }\n",
       "\n",
       "    .dataframe tbody tr th {\n",
       "        vertical-align: top;\n",
       "    }\n",
       "\n",
       "    .dataframe thead th {\n",
       "        text-align: right;\n",
       "    }\n",
       "</style>\n",
       "<table border=\"1\" class=\"dataframe\">\n",
       "  <thead>\n",
       "    <tr style=\"text-align: right;\">\n",
       "      <th></th>\n",
       "      <th>user_id</th>\n",
       "      <th>name</th>\n",
       "      <th>exercise_id</th>\n",
       "      <th>exercise_name</th>\n",
       "      <th>description</th>\n",
       "      <th>ex_completion_status</th>\n",
       "      <th>levels_done</th>\n",
       "      <th>total_levels</th>\n",
       "      <th>blocks_used</th>\n",
       "    </tr>\n",
       "  </thead>\n",
       "  <tbody>\n",
       "    <tr>\n",
       "      <th>3</th>\n",
       "      <td>7742</td>\n",
       "      <td>Reyansh Ojha</td>\n",
       "      <td>None</td>\n",
       "      <td>None</td>\n",
       "      <td>None</td>\n",
       "      <td>0</td>\n",
       "      <td>0</td>\n",
       "      <td>0</td>\n",
       "      <td>0</td>\n",
       "    </tr>\n",
       "    <tr>\n",
       "      <th>4</th>\n",
       "      <td>8004</td>\n",
       "      <td>Adi Hariya</td>\n",
       "      <td>None</td>\n",
       "      <td>None</td>\n",
       "      <td>None</td>\n",
       "      <td>0</td>\n",
       "      <td>0</td>\n",
       "      <td>0</td>\n",
       "      <td>0</td>\n",
       "    </tr>\n",
       "    <tr>\n",
       "      <th>5</th>\n",
       "      <td>8003</td>\n",
       "      <td>Ayush Choudhary</td>\n",
       "      <td>None</td>\n",
       "      <td>None</td>\n",
       "      <td>None</td>\n",
       "      <td>0</td>\n",
       "      <td>0</td>\n",
       "      <td>0</td>\n",
       "      <td>0</td>\n",
       "    </tr>\n",
       "    <tr>\n",
       "      <th>6</th>\n",
       "      <td>6138</td>\n",
       "      <td>Kshitij Ravi Divakar</td>\n",
       "      <td>None</td>\n",
       "      <td>None</td>\n",
       "      <td>None</td>\n",
       "      <td>0</td>\n",
       "      <td>0</td>\n",
       "      <td>0</td>\n",
       "      <td>0</td>\n",
       "    </tr>\n",
       "    <tr>\n",
       "      <th>7</th>\n",
       "      <td>6178</td>\n",
       "      <td>Navika Naveen Poojary</td>\n",
       "      <td>None</td>\n",
       "      <td>None</td>\n",
       "      <td>None</td>\n",
       "      <td>0</td>\n",
       "      <td>0</td>\n",
       "      <td>0</td>\n",
       "      <td>0</td>\n",
       "    </tr>\n",
       "  </tbody>\n",
       "</table>\n",
       "</div>"
      ],
      "text/plain": [
       "   user_id                   name exercise_id exercise_name description  \\\n",
       "3     7742           Reyansh Ojha        None          None        None   \n",
       "4     8004             Adi Hariya        None          None        None   \n",
       "5     8003        Ayush Choudhary        None          None        None   \n",
       "6     6138   Kshitij Ravi Divakar        None          None        None   \n",
       "7     6178  Navika Naveen Poojary        None          None        None   \n",
       "\n",
       "   ex_completion_status  levels_done  total_levels  blocks_used  \n",
       "3                     0            0             0            0  \n",
       "4                     0            0             0            0  \n",
       "5                     0            0             0            0  \n",
       "6                     0            0             0            0  \n",
       "7                     0            0             0            0  "
      ]
     },
     "execution_count": 281,
     "metadata": {},
     "output_type": "execute_result"
    }
   ],
   "source": [
    "report_block2_na.head()"
   ]
  },
  {
   "cell_type": "code",
   "execution_count": 283,
   "id": "60934452",
   "metadata": {},
   "outputs": [
    {
     "ename": "",
     "evalue": "",
     "output_type": "error",
     "traceback": [
      "\u001b[1;31mThe Kernel crashed while executing code in the the current cell or a previous cell. Please review the code in the cell(s) to identify a possible cause of the failure. Click <a href='https://aka.ms/vscodeJupyterKernelCrash'>here</a> for more info. View Jupyter <a href='command:jupyter.viewOutput'>log</a> for further details."
     ]
    }
   ],
   "source": [
    "report_block2_na.to_csv('support_files/report_block2_na.csv')"
   ]
  }
 ],
 "metadata": {
  "kernelspec": {
   "display_name": "Python 3 (ipykernel)",
   "language": "python",
   "name": "python3"
  },
  "language_info": {
   "codemirror_mode": {
    "name": "ipython",
    "version": 3
   },
   "file_extension": ".py",
   "mimetype": "text/x-python",
   "name": "python",
   "nbconvert_exporter": "python",
   "pygments_lexer": "ipython3",
   "version": "3.11.4"
  }
 },
 "nbformat": 4,
 "nbformat_minor": 5
}
